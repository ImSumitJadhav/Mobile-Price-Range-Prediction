{
  "nbformat": 4,
  "nbformat_minor": 0,
  "metadata": {
    "colab": {
      "name": "Mobile Price Range Prediction CLASS (ML)",
      "provenance": [],
      "collapsed_sections": [],
      "authorship_tag": "ABX9TyOz1aeq0dq8pnj8TCWrHbF9",
      "include_colab_link": true
    },
    "kernelspec": {
      "name": "python3",
      "display_name": "Python 3"
    },
    "language_info": {
      "name": "python"
    }
  },
  "cells": [
    {
      "cell_type": "markdown",
      "metadata": {
        "id": "view-in-github",
        "colab_type": "text"
      },
      "source": [
        "<a href=\"https://colab.research.google.com/github/ImSumitJadhav/Mobile-Price-Range-Prediction/blob/main/Mobile_Price_Range_Prediction_CLASS_(ML).ipynb\" target=\"_parent\"><img src=\"https://colab.research.google.com/assets/colab-badge.svg\" alt=\"Open In Colab\"/></a>"
      ]
    },
    {
      "cell_type": "markdown",
      "source": [
        "# **Name: Sumit Vasant Jadhav**"
      ],
      "metadata": {
        "id": "RbwhxTjKVwHo"
      }
    },
    {
      "cell_type": "markdown",
      "source": [
        "#<font color='red'> **Project Name- Mobile price range prediction**"
      ],
      "metadata": {
        "id": "2MIdxFbz2ZJ2"
      }
    },
    {
      "cell_type": "markdown",
      "source": [
        "#<font color='red'> **Problem Statement**\n",
        "\n",
        "In the competitive mobile phone market companies want to understand sales data of mobile phones and factors which drive the prices.The objective is to find out some relation between features of a mobile phone(eg:- RAM,Internal Memory, etc) and its selling price. In this problem, we do not have to predict the actual price but a price range indicating how high the price is."
      ],
      "metadata": {
        "id": "X7psI0qz2w6U"
      }
    },
    {
      "cell_type": "markdown",
      "source": [
        "##<font color='red'> **Let's Go.....**"
      ],
      "metadata": {
        "id": "Fb3qCipZPp6y"
      }
    },
    {
      "cell_type": "code",
      "execution_count": null,
      "metadata": {
        "id": "4IEJDL1AZ8_d"
      },
      "outputs": [],
      "source": [
        "#import library and modules\n",
        "import numpy as np\n",
        "import pandas as pd\n",
        "import matplotlib.pyplot as plt\n",
        "import seaborn as sns\n",
        "\n",
        "#ignore warings\n",
        "import warnings\n",
        "warnings.filterwarnings('ignore')\n",
        "\n",
        "#import drive\n",
        "from google.colab import drive"
      ]
    },
    {
      "cell_type": "code",
      "source": [
        "#mount drive\n",
        "drive.mount('/content/MyDrive')  \n",
        "df=pd.read_csv('/content/MyDrive/MyDrive/Project 3/data_mobile_price_range.csv')"
      ],
      "metadata": {
        "colab": {
          "base_uri": "https://localhost:8080/"
        },
        "id": "q_wDF0sCZ_Vl",
        "outputId": "3dcca914-7dcb-4f0f-972e-7f943ee7c227"
      },
      "execution_count": null,
      "outputs": [
        {
          "output_type": "stream",
          "name": "stdout",
          "text": [
            "Drive already mounted at /content/MyDrive; to attempt to forcibly remount, call drive.mount(\"/content/MyDrive\", force_remount=True).\n"
          ]
        }
      ]
    },
    {
      "cell_type": "code",
      "source": [
        "#to show top 5 rows\n",
        "df.head()"
      ],
      "metadata": {
        "colab": {
          "base_uri": "https://localhost:8080/",
          "height": 300
        },
        "id": "ycaernWL2X3u",
        "outputId": "951f98cc-e773-4a95-8b49-31cc23499633"
      },
      "execution_count": null,
      "outputs": [
        {
          "output_type": "execute_result",
          "data": {
            "text/plain": [
              "   battery_power  blue  clock_speed  dual_sim  fc  four_g  int_memory  m_dep  \\\n",
              "0            842     0          2.2         0   1       0           7    0.6   \n",
              "1           1021     1          0.5         1   0       1          53    0.7   \n",
              "2            563     1          0.5         1   2       1          41    0.9   \n",
              "3            615     1          2.5         0   0       0          10    0.8   \n",
              "4           1821     1          1.2         0  13       1          44    0.6   \n",
              "\n",
              "   mobile_wt  n_cores  ...  px_height  px_width   ram  sc_h  sc_w  talk_time  \\\n",
              "0        188        2  ...         20       756  2549     9     7         19   \n",
              "1        136        3  ...        905      1988  2631    17     3          7   \n",
              "2        145        5  ...       1263      1716  2603    11     2          9   \n",
              "3        131        6  ...       1216      1786  2769    16     8         11   \n",
              "4        141        2  ...       1208      1212  1411     8     2         15   \n",
              "\n",
              "   three_g  touch_screen  wifi  price_range  \n",
              "0        0             0     1            1  \n",
              "1        1             1     0            2  \n",
              "2        1             1     0            2  \n",
              "3        1             0     0            2  \n",
              "4        1             1     0            1  \n",
              "\n",
              "[5 rows x 21 columns]"
            ],
            "text/html": [
              "\n",
              "  <div id=\"df-5b9a2900-b333-4cfa-a861-e38bdfad8736\">\n",
              "    <div class=\"colab-df-container\">\n",
              "      <div>\n",
              "<style scoped>\n",
              "    .dataframe tbody tr th:only-of-type {\n",
              "        vertical-align: middle;\n",
              "    }\n",
              "\n",
              "    .dataframe tbody tr th {\n",
              "        vertical-align: top;\n",
              "    }\n",
              "\n",
              "    .dataframe thead th {\n",
              "        text-align: right;\n",
              "    }\n",
              "</style>\n",
              "<table border=\"1\" class=\"dataframe\">\n",
              "  <thead>\n",
              "    <tr style=\"text-align: right;\">\n",
              "      <th></th>\n",
              "      <th>battery_power</th>\n",
              "      <th>blue</th>\n",
              "      <th>clock_speed</th>\n",
              "      <th>dual_sim</th>\n",
              "      <th>fc</th>\n",
              "      <th>four_g</th>\n",
              "      <th>int_memory</th>\n",
              "      <th>m_dep</th>\n",
              "      <th>mobile_wt</th>\n",
              "      <th>n_cores</th>\n",
              "      <th>...</th>\n",
              "      <th>px_height</th>\n",
              "      <th>px_width</th>\n",
              "      <th>ram</th>\n",
              "      <th>sc_h</th>\n",
              "      <th>sc_w</th>\n",
              "      <th>talk_time</th>\n",
              "      <th>three_g</th>\n",
              "      <th>touch_screen</th>\n",
              "      <th>wifi</th>\n",
              "      <th>price_range</th>\n",
              "    </tr>\n",
              "  </thead>\n",
              "  <tbody>\n",
              "    <tr>\n",
              "      <th>0</th>\n",
              "      <td>842</td>\n",
              "      <td>0</td>\n",
              "      <td>2.2</td>\n",
              "      <td>0</td>\n",
              "      <td>1</td>\n",
              "      <td>0</td>\n",
              "      <td>7</td>\n",
              "      <td>0.6</td>\n",
              "      <td>188</td>\n",
              "      <td>2</td>\n",
              "      <td>...</td>\n",
              "      <td>20</td>\n",
              "      <td>756</td>\n",
              "      <td>2549</td>\n",
              "      <td>9</td>\n",
              "      <td>7</td>\n",
              "      <td>19</td>\n",
              "      <td>0</td>\n",
              "      <td>0</td>\n",
              "      <td>1</td>\n",
              "      <td>1</td>\n",
              "    </tr>\n",
              "    <tr>\n",
              "      <th>1</th>\n",
              "      <td>1021</td>\n",
              "      <td>1</td>\n",
              "      <td>0.5</td>\n",
              "      <td>1</td>\n",
              "      <td>0</td>\n",
              "      <td>1</td>\n",
              "      <td>53</td>\n",
              "      <td>0.7</td>\n",
              "      <td>136</td>\n",
              "      <td>3</td>\n",
              "      <td>...</td>\n",
              "      <td>905</td>\n",
              "      <td>1988</td>\n",
              "      <td>2631</td>\n",
              "      <td>17</td>\n",
              "      <td>3</td>\n",
              "      <td>7</td>\n",
              "      <td>1</td>\n",
              "      <td>1</td>\n",
              "      <td>0</td>\n",
              "      <td>2</td>\n",
              "    </tr>\n",
              "    <tr>\n",
              "      <th>2</th>\n",
              "      <td>563</td>\n",
              "      <td>1</td>\n",
              "      <td>0.5</td>\n",
              "      <td>1</td>\n",
              "      <td>2</td>\n",
              "      <td>1</td>\n",
              "      <td>41</td>\n",
              "      <td>0.9</td>\n",
              "      <td>145</td>\n",
              "      <td>5</td>\n",
              "      <td>...</td>\n",
              "      <td>1263</td>\n",
              "      <td>1716</td>\n",
              "      <td>2603</td>\n",
              "      <td>11</td>\n",
              "      <td>2</td>\n",
              "      <td>9</td>\n",
              "      <td>1</td>\n",
              "      <td>1</td>\n",
              "      <td>0</td>\n",
              "      <td>2</td>\n",
              "    </tr>\n",
              "    <tr>\n",
              "      <th>3</th>\n",
              "      <td>615</td>\n",
              "      <td>1</td>\n",
              "      <td>2.5</td>\n",
              "      <td>0</td>\n",
              "      <td>0</td>\n",
              "      <td>0</td>\n",
              "      <td>10</td>\n",
              "      <td>0.8</td>\n",
              "      <td>131</td>\n",
              "      <td>6</td>\n",
              "      <td>...</td>\n",
              "      <td>1216</td>\n",
              "      <td>1786</td>\n",
              "      <td>2769</td>\n",
              "      <td>16</td>\n",
              "      <td>8</td>\n",
              "      <td>11</td>\n",
              "      <td>1</td>\n",
              "      <td>0</td>\n",
              "      <td>0</td>\n",
              "      <td>2</td>\n",
              "    </tr>\n",
              "    <tr>\n",
              "      <th>4</th>\n",
              "      <td>1821</td>\n",
              "      <td>1</td>\n",
              "      <td>1.2</td>\n",
              "      <td>0</td>\n",
              "      <td>13</td>\n",
              "      <td>1</td>\n",
              "      <td>44</td>\n",
              "      <td>0.6</td>\n",
              "      <td>141</td>\n",
              "      <td>2</td>\n",
              "      <td>...</td>\n",
              "      <td>1208</td>\n",
              "      <td>1212</td>\n",
              "      <td>1411</td>\n",
              "      <td>8</td>\n",
              "      <td>2</td>\n",
              "      <td>15</td>\n",
              "      <td>1</td>\n",
              "      <td>1</td>\n",
              "      <td>0</td>\n",
              "      <td>1</td>\n",
              "    </tr>\n",
              "  </tbody>\n",
              "</table>\n",
              "<p>5 rows × 21 columns</p>\n",
              "</div>\n",
              "      <button class=\"colab-df-convert\" onclick=\"convertToInteractive('df-5b9a2900-b333-4cfa-a861-e38bdfad8736')\"\n",
              "              title=\"Convert this dataframe to an interactive table.\"\n",
              "              style=\"display:none;\">\n",
              "        \n",
              "  <svg xmlns=\"http://www.w3.org/2000/svg\" height=\"24px\"viewBox=\"0 0 24 24\"\n",
              "       width=\"24px\">\n",
              "    <path d=\"M0 0h24v24H0V0z\" fill=\"none\"/>\n",
              "    <path d=\"M18.56 5.44l.94 2.06.94-2.06 2.06-.94-2.06-.94-.94-2.06-.94 2.06-2.06.94zm-11 1L8.5 8.5l.94-2.06 2.06-.94-2.06-.94L8.5 2.5l-.94 2.06-2.06.94zm10 10l.94 2.06.94-2.06 2.06-.94-2.06-.94-.94-2.06-.94 2.06-2.06.94z\"/><path d=\"M17.41 7.96l-1.37-1.37c-.4-.4-.92-.59-1.43-.59-.52 0-1.04.2-1.43.59L10.3 9.45l-7.72 7.72c-.78.78-.78 2.05 0 2.83L4 21.41c.39.39.9.59 1.41.59.51 0 1.02-.2 1.41-.59l7.78-7.78 2.81-2.81c.8-.78.8-2.07 0-2.86zM5.41 20L4 18.59l7.72-7.72 1.47 1.35L5.41 20z\"/>\n",
              "  </svg>\n",
              "      </button>\n",
              "      \n",
              "  <style>\n",
              "    .colab-df-container {\n",
              "      display:flex;\n",
              "      flex-wrap:wrap;\n",
              "      gap: 12px;\n",
              "    }\n",
              "\n",
              "    .colab-df-convert {\n",
              "      background-color: #E8F0FE;\n",
              "      border: none;\n",
              "      border-radius: 50%;\n",
              "      cursor: pointer;\n",
              "      display: none;\n",
              "      fill: #1967D2;\n",
              "      height: 32px;\n",
              "      padding: 0 0 0 0;\n",
              "      width: 32px;\n",
              "    }\n",
              "\n",
              "    .colab-df-convert:hover {\n",
              "      background-color: #E2EBFA;\n",
              "      box-shadow: 0px 1px 2px rgba(60, 64, 67, 0.3), 0px 1px 3px 1px rgba(60, 64, 67, 0.15);\n",
              "      fill: #174EA6;\n",
              "    }\n",
              "\n",
              "    [theme=dark] .colab-df-convert {\n",
              "      background-color: #3B4455;\n",
              "      fill: #D2E3FC;\n",
              "    }\n",
              "\n",
              "    [theme=dark] .colab-df-convert:hover {\n",
              "      background-color: #434B5C;\n",
              "      box-shadow: 0px 1px 3px 1px rgba(0, 0, 0, 0.15);\n",
              "      filter: drop-shadow(0px 1px 2px rgba(0, 0, 0, 0.3));\n",
              "      fill: #FFFFFF;\n",
              "    }\n",
              "  </style>\n",
              "\n",
              "      <script>\n",
              "        const buttonEl =\n",
              "          document.querySelector('#df-5b9a2900-b333-4cfa-a861-e38bdfad8736 button.colab-df-convert');\n",
              "        buttonEl.style.display =\n",
              "          google.colab.kernel.accessAllowed ? 'block' : 'none';\n",
              "\n",
              "        async function convertToInteractive(key) {\n",
              "          const element = document.querySelector('#df-5b9a2900-b333-4cfa-a861-e38bdfad8736');\n",
              "          const dataTable =\n",
              "            await google.colab.kernel.invokeFunction('convertToInteractive',\n",
              "                                                     [key], {});\n",
              "          if (!dataTable) return;\n",
              "\n",
              "          const docLinkHtml = 'Like what you see? Visit the ' +\n",
              "            '<a target=\"_blank\" href=https://colab.research.google.com/notebooks/data_table.ipynb>data table notebook</a>'\n",
              "            + ' to learn more about interactive tables.';\n",
              "          element.innerHTML = '';\n",
              "          dataTable['output_type'] = 'display_data';\n",
              "          await google.colab.output.renderOutput(dataTable, element);\n",
              "          const docLink = document.createElement('div');\n",
              "          docLink.innerHTML = docLinkHtml;\n",
              "          element.appendChild(docLink);\n",
              "        }\n",
              "      </script>\n",
              "    </div>\n",
              "  </div>\n",
              "  "
            ]
          },
          "metadata": {},
          "execution_count": 10
        }
      ]
    },
    {
      "cell_type": "code",
      "source": [
        "#to show bottom 5 rows\n",
        "df.tail()"
      ],
      "metadata": {
        "colab": {
          "base_uri": "https://localhost:8080/",
          "height": 300
        },
        "id": "Cga9bVxtxss4",
        "outputId": "e1bb0d49-29f8-4abc-b960-8d2d4c903481"
      },
      "execution_count": null,
      "outputs": [
        {
          "output_type": "execute_result",
          "data": {
            "text/plain": [
              "      battery_power  blue  clock_speed  dual_sim  fc  four_g  int_memory  \\\n",
              "1995            794     1          0.5         1   0       1           2   \n",
              "1996           1965     1          2.6         1   0       0          39   \n",
              "1997           1911     0          0.9         1   1       1          36   \n",
              "1998           1512     0          0.9         0   4       1          46   \n",
              "1999            510     1          2.0         1   5       1          45   \n",
              "\n",
              "      m_dep  mobile_wt  n_cores  ...  px_height  px_width   ram  sc_h  sc_w  \\\n",
              "1995    0.8        106        6  ...       1222      1890   668    13     4   \n",
              "1996    0.2        187        4  ...        915      1965  2032    11    10   \n",
              "1997    0.7        108        8  ...        868      1632  3057     9     1   \n",
              "1998    0.1        145        5  ...        336       670   869    18    10   \n",
              "1999    0.9        168        6  ...        483       754  3919    19     4   \n",
              "\n",
              "      talk_time  three_g  touch_screen  wifi  price_range  \n",
              "1995         19        1             1     0            0  \n",
              "1996         16        1             1     1            2  \n",
              "1997          5        1             1     0            3  \n",
              "1998         19        1             1     1            0  \n",
              "1999          2        1             1     1            3  \n",
              "\n",
              "[5 rows x 21 columns]"
            ],
            "text/html": [
              "\n",
              "  <div id=\"df-75ca0c22-f88f-428d-b2b8-5a7873b27f42\">\n",
              "    <div class=\"colab-df-container\">\n",
              "      <div>\n",
              "<style scoped>\n",
              "    .dataframe tbody tr th:only-of-type {\n",
              "        vertical-align: middle;\n",
              "    }\n",
              "\n",
              "    .dataframe tbody tr th {\n",
              "        vertical-align: top;\n",
              "    }\n",
              "\n",
              "    .dataframe thead th {\n",
              "        text-align: right;\n",
              "    }\n",
              "</style>\n",
              "<table border=\"1\" class=\"dataframe\">\n",
              "  <thead>\n",
              "    <tr style=\"text-align: right;\">\n",
              "      <th></th>\n",
              "      <th>battery_power</th>\n",
              "      <th>blue</th>\n",
              "      <th>clock_speed</th>\n",
              "      <th>dual_sim</th>\n",
              "      <th>fc</th>\n",
              "      <th>four_g</th>\n",
              "      <th>int_memory</th>\n",
              "      <th>m_dep</th>\n",
              "      <th>mobile_wt</th>\n",
              "      <th>n_cores</th>\n",
              "      <th>...</th>\n",
              "      <th>px_height</th>\n",
              "      <th>px_width</th>\n",
              "      <th>ram</th>\n",
              "      <th>sc_h</th>\n",
              "      <th>sc_w</th>\n",
              "      <th>talk_time</th>\n",
              "      <th>three_g</th>\n",
              "      <th>touch_screen</th>\n",
              "      <th>wifi</th>\n",
              "      <th>price_range</th>\n",
              "    </tr>\n",
              "  </thead>\n",
              "  <tbody>\n",
              "    <tr>\n",
              "      <th>1995</th>\n",
              "      <td>794</td>\n",
              "      <td>1</td>\n",
              "      <td>0.5</td>\n",
              "      <td>1</td>\n",
              "      <td>0</td>\n",
              "      <td>1</td>\n",
              "      <td>2</td>\n",
              "      <td>0.8</td>\n",
              "      <td>106</td>\n",
              "      <td>6</td>\n",
              "      <td>...</td>\n",
              "      <td>1222</td>\n",
              "      <td>1890</td>\n",
              "      <td>668</td>\n",
              "      <td>13</td>\n",
              "      <td>4</td>\n",
              "      <td>19</td>\n",
              "      <td>1</td>\n",
              "      <td>1</td>\n",
              "      <td>0</td>\n",
              "      <td>0</td>\n",
              "    </tr>\n",
              "    <tr>\n",
              "      <th>1996</th>\n",
              "      <td>1965</td>\n",
              "      <td>1</td>\n",
              "      <td>2.6</td>\n",
              "      <td>1</td>\n",
              "      <td>0</td>\n",
              "      <td>0</td>\n",
              "      <td>39</td>\n",
              "      <td>0.2</td>\n",
              "      <td>187</td>\n",
              "      <td>4</td>\n",
              "      <td>...</td>\n",
              "      <td>915</td>\n",
              "      <td>1965</td>\n",
              "      <td>2032</td>\n",
              "      <td>11</td>\n",
              "      <td>10</td>\n",
              "      <td>16</td>\n",
              "      <td>1</td>\n",
              "      <td>1</td>\n",
              "      <td>1</td>\n",
              "      <td>2</td>\n",
              "    </tr>\n",
              "    <tr>\n",
              "      <th>1997</th>\n",
              "      <td>1911</td>\n",
              "      <td>0</td>\n",
              "      <td>0.9</td>\n",
              "      <td>1</td>\n",
              "      <td>1</td>\n",
              "      <td>1</td>\n",
              "      <td>36</td>\n",
              "      <td>0.7</td>\n",
              "      <td>108</td>\n",
              "      <td>8</td>\n",
              "      <td>...</td>\n",
              "      <td>868</td>\n",
              "      <td>1632</td>\n",
              "      <td>3057</td>\n",
              "      <td>9</td>\n",
              "      <td>1</td>\n",
              "      <td>5</td>\n",
              "      <td>1</td>\n",
              "      <td>1</td>\n",
              "      <td>0</td>\n",
              "      <td>3</td>\n",
              "    </tr>\n",
              "    <tr>\n",
              "      <th>1998</th>\n",
              "      <td>1512</td>\n",
              "      <td>0</td>\n",
              "      <td>0.9</td>\n",
              "      <td>0</td>\n",
              "      <td>4</td>\n",
              "      <td>1</td>\n",
              "      <td>46</td>\n",
              "      <td>0.1</td>\n",
              "      <td>145</td>\n",
              "      <td>5</td>\n",
              "      <td>...</td>\n",
              "      <td>336</td>\n",
              "      <td>670</td>\n",
              "      <td>869</td>\n",
              "      <td>18</td>\n",
              "      <td>10</td>\n",
              "      <td>19</td>\n",
              "      <td>1</td>\n",
              "      <td>1</td>\n",
              "      <td>1</td>\n",
              "      <td>0</td>\n",
              "    </tr>\n",
              "    <tr>\n",
              "      <th>1999</th>\n",
              "      <td>510</td>\n",
              "      <td>1</td>\n",
              "      <td>2.0</td>\n",
              "      <td>1</td>\n",
              "      <td>5</td>\n",
              "      <td>1</td>\n",
              "      <td>45</td>\n",
              "      <td>0.9</td>\n",
              "      <td>168</td>\n",
              "      <td>6</td>\n",
              "      <td>...</td>\n",
              "      <td>483</td>\n",
              "      <td>754</td>\n",
              "      <td>3919</td>\n",
              "      <td>19</td>\n",
              "      <td>4</td>\n",
              "      <td>2</td>\n",
              "      <td>1</td>\n",
              "      <td>1</td>\n",
              "      <td>1</td>\n",
              "      <td>3</td>\n",
              "    </tr>\n",
              "  </tbody>\n",
              "</table>\n",
              "<p>5 rows × 21 columns</p>\n",
              "</div>\n",
              "      <button class=\"colab-df-convert\" onclick=\"convertToInteractive('df-75ca0c22-f88f-428d-b2b8-5a7873b27f42')\"\n",
              "              title=\"Convert this dataframe to an interactive table.\"\n",
              "              style=\"display:none;\">\n",
              "        \n",
              "  <svg xmlns=\"http://www.w3.org/2000/svg\" height=\"24px\"viewBox=\"0 0 24 24\"\n",
              "       width=\"24px\">\n",
              "    <path d=\"M0 0h24v24H0V0z\" fill=\"none\"/>\n",
              "    <path d=\"M18.56 5.44l.94 2.06.94-2.06 2.06-.94-2.06-.94-.94-2.06-.94 2.06-2.06.94zm-11 1L8.5 8.5l.94-2.06 2.06-.94-2.06-.94L8.5 2.5l-.94 2.06-2.06.94zm10 10l.94 2.06.94-2.06 2.06-.94-2.06-.94-.94-2.06-.94 2.06-2.06.94z\"/><path d=\"M17.41 7.96l-1.37-1.37c-.4-.4-.92-.59-1.43-.59-.52 0-1.04.2-1.43.59L10.3 9.45l-7.72 7.72c-.78.78-.78 2.05 0 2.83L4 21.41c.39.39.9.59 1.41.59.51 0 1.02-.2 1.41-.59l7.78-7.78 2.81-2.81c.8-.78.8-2.07 0-2.86zM5.41 20L4 18.59l7.72-7.72 1.47 1.35L5.41 20z\"/>\n",
              "  </svg>\n",
              "      </button>\n",
              "      \n",
              "  <style>\n",
              "    .colab-df-container {\n",
              "      display:flex;\n",
              "      flex-wrap:wrap;\n",
              "      gap: 12px;\n",
              "    }\n",
              "\n",
              "    .colab-df-convert {\n",
              "      background-color: #E8F0FE;\n",
              "      border: none;\n",
              "      border-radius: 50%;\n",
              "      cursor: pointer;\n",
              "      display: none;\n",
              "      fill: #1967D2;\n",
              "      height: 32px;\n",
              "      padding: 0 0 0 0;\n",
              "      width: 32px;\n",
              "    }\n",
              "\n",
              "    .colab-df-convert:hover {\n",
              "      background-color: #E2EBFA;\n",
              "      box-shadow: 0px 1px 2px rgba(60, 64, 67, 0.3), 0px 1px 3px 1px rgba(60, 64, 67, 0.15);\n",
              "      fill: #174EA6;\n",
              "    }\n",
              "\n",
              "    [theme=dark] .colab-df-convert {\n",
              "      background-color: #3B4455;\n",
              "      fill: #D2E3FC;\n",
              "    }\n",
              "\n",
              "    [theme=dark] .colab-df-convert:hover {\n",
              "      background-color: #434B5C;\n",
              "      box-shadow: 0px 1px 3px 1px rgba(0, 0, 0, 0.15);\n",
              "      filter: drop-shadow(0px 1px 2px rgba(0, 0, 0, 0.3));\n",
              "      fill: #FFFFFF;\n",
              "    }\n",
              "  </style>\n",
              "\n",
              "      <script>\n",
              "        const buttonEl =\n",
              "          document.querySelector('#df-75ca0c22-f88f-428d-b2b8-5a7873b27f42 button.colab-df-convert');\n",
              "        buttonEl.style.display =\n",
              "          google.colab.kernel.accessAllowed ? 'block' : 'none';\n",
              "\n",
              "        async function convertToInteractive(key) {\n",
              "          const element = document.querySelector('#df-75ca0c22-f88f-428d-b2b8-5a7873b27f42');\n",
              "          const dataTable =\n",
              "            await google.colab.kernel.invokeFunction('convertToInteractive',\n",
              "                                                     [key], {});\n",
              "          if (!dataTable) return;\n",
              "\n",
              "          const docLinkHtml = 'Like what you see? Visit the ' +\n",
              "            '<a target=\"_blank\" href=https://colab.research.google.com/notebooks/data_table.ipynb>data table notebook</a>'\n",
              "            + ' to learn more about interactive tables.';\n",
              "          element.innerHTML = '';\n",
              "          dataTable['output_type'] = 'display_data';\n",
              "          await google.colab.output.renderOutput(dataTable, element);\n",
              "          const docLink = document.createElement('div');\n",
              "          docLink.innerHTML = docLinkHtml;\n",
              "          element.appendChild(docLink);\n",
              "        }\n",
              "      </script>\n",
              "    </div>\n",
              "  </div>\n",
              "  "
            ]
          },
          "metadata": {},
          "execution_count": 11
        }
      ]
    },
    {
      "cell_type": "code",
      "source": [
        "#size of dataframe\n",
        "df.shape"
      ],
      "metadata": {
        "colab": {
          "base_uri": "https://localhost:8080/"
        },
        "id": "klpUG7QU3T4z",
        "outputId": "d1812204-b611-4a56-aa95-a149f0741fd1"
      },
      "execution_count": null,
      "outputs": [
        {
          "output_type": "execute_result",
          "data": {
            "text/plain": [
              "(2000, 21)"
            ]
          },
          "metadata": {},
          "execution_count": 12
        }
      ]
    },
    {
      "cell_type": "markdown",
      "source": [
        "# <font color='red'> **Data summary**"
      ],
      "metadata": {
        "id": "ato0vWgF9T3j"
      }
    },
    {
      "cell_type": "code",
      "source": [
        "#To get information about numerical variables of dataset\n",
        "df.describe()  "
      ],
      "metadata": {
        "colab": {
          "base_uri": "https://localhost:8080/",
          "height": 394
        },
        "id": "8Cau_tDC3fto",
        "outputId": "07791ddc-44d0-4344-ec9c-c58dbe7bc93a"
      },
      "execution_count": null,
      "outputs": [
        {
          "output_type": "execute_result",
          "data": {
            "text/plain": [
              "       battery_power       blue  clock_speed     dual_sim           fc  \\\n",
              "count    2000.000000  2000.0000  2000.000000  2000.000000  2000.000000   \n",
              "mean     1238.518500     0.4950     1.522250     0.509500     4.309500   \n",
              "std       439.418206     0.5001     0.816004     0.500035     4.341444   \n",
              "min       501.000000     0.0000     0.500000     0.000000     0.000000   \n",
              "25%       851.750000     0.0000     0.700000     0.000000     1.000000   \n",
              "50%      1226.000000     0.0000     1.500000     1.000000     3.000000   \n",
              "75%      1615.250000     1.0000     2.200000     1.000000     7.000000   \n",
              "max      1998.000000     1.0000     3.000000     1.000000    19.000000   \n",
              "\n",
              "            four_g   int_memory        m_dep    mobile_wt      n_cores  ...  \\\n",
              "count  2000.000000  2000.000000  2000.000000  2000.000000  2000.000000  ...   \n",
              "mean      0.521500    32.046500     0.501750   140.249000     4.520500  ...   \n",
              "std       0.499662    18.145715     0.288416    35.399655     2.287837  ...   \n",
              "min       0.000000     2.000000     0.100000    80.000000     1.000000  ...   \n",
              "25%       0.000000    16.000000     0.200000   109.000000     3.000000  ...   \n",
              "50%       1.000000    32.000000     0.500000   141.000000     4.000000  ...   \n",
              "75%       1.000000    48.000000     0.800000   170.000000     7.000000  ...   \n",
              "max       1.000000    64.000000     1.000000   200.000000     8.000000  ...   \n",
              "\n",
              "         px_height     px_width          ram         sc_h         sc_w  \\\n",
              "count  2000.000000  2000.000000  2000.000000  2000.000000  2000.000000   \n",
              "mean    645.108000  1251.515500  2124.213000    12.306500     5.767000   \n",
              "std     443.780811   432.199447  1084.732044     4.213245     4.356398   \n",
              "min       0.000000   500.000000   256.000000     5.000000     0.000000   \n",
              "25%     282.750000   874.750000  1207.500000     9.000000     2.000000   \n",
              "50%     564.000000  1247.000000  2146.500000    12.000000     5.000000   \n",
              "75%     947.250000  1633.000000  3064.500000    16.000000     9.000000   \n",
              "max    1960.000000  1998.000000  3998.000000    19.000000    18.000000   \n",
              "\n",
              "         talk_time      three_g  touch_screen         wifi  price_range  \n",
              "count  2000.000000  2000.000000   2000.000000  2000.000000  2000.000000  \n",
              "mean     11.011000     0.761500      0.503000     0.507000     1.500000  \n",
              "std       5.463955     0.426273      0.500116     0.500076     1.118314  \n",
              "min       2.000000     0.000000      0.000000     0.000000     0.000000  \n",
              "25%       6.000000     1.000000      0.000000     0.000000     0.750000  \n",
              "50%      11.000000     1.000000      1.000000     1.000000     1.500000  \n",
              "75%      16.000000     1.000000      1.000000     1.000000     2.250000  \n",
              "max      20.000000     1.000000      1.000000     1.000000     3.000000  \n",
              "\n",
              "[8 rows x 21 columns]"
            ],
            "text/html": [
              "\n",
              "  <div id=\"df-3b496d31-f70b-4971-bb03-efe11f6f43b3\">\n",
              "    <div class=\"colab-df-container\">\n",
              "      <div>\n",
              "<style scoped>\n",
              "    .dataframe tbody tr th:only-of-type {\n",
              "        vertical-align: middle;\n",
              "    }\n",
              "\n",
              "    .dataframe tbody tr th {\n",
              "        vertical-align: top;\n",
              "    }\n",
              "\n",
              "    .dataframe thead th {\n",
              "        text-align: right;\n",
              "    }\n",
              "</style>\n",
              "<table border=\"1\" class=\"dataframe\">\n",
              "  <thead>\n",
              "    <tr style=\"text-align: right;\">\n",
              "      <th></th>\n",
              "      <th>battery_power</th>\n",
              "      <th>blue</th>\n",
              "      <th>clock_speed</th>\n",
              "      <th>dual_sim</th>\n",
              "      <th>fc</th>\n",
              "      <th>four_g</th>\n",
              "      <th>int_memory</th>\n",
              "      <th>m_dep</th>\n",
              "      <th>mobile_wt</th>\n",
              "      <th>n_cores</th>\n",
              "      <th>...</th>\n",
              "      <th>px_height</th>\n",
              "      <th>px_width</th>\n",
              "      <th>ram</th>\n",
              "      <th>sc_h</th>\n",
              "      <th>sc_w</th>\n",
              "      <th>talk_time</th>\n",
              "      <th>three_g</th>\n",
              "      <th>touch_screen</th>\n",
              "      <th>wifi</th>\n",
              "      <th>price_range</th>\n",
              "    </tr>\n",
              "  </thead>\n",
              "  <tbody>\n",
              "    <tr>\n",
              "      <th>count</th>\n",
              "      <td>2000.000000</td>\n",
              "      <td>2000.0000</td>\n",
              "      <td>2000.000000</td>\n",
              "      <td>2000.000000</td>\n",
              "      <td>2000.000000</td>\n",
              "      <td>2000.000000</td>\n",
              "      <td>2000.000000</td>\n",
              "      <td>2000.000000</td>\n",
              "      <td>2000.000000</td>\n",
              "      <td>2000.000000</td>\n",
              "      <td>...</td>\n",
              "      <td>2000.000000</td>\n",
              "      <td>2000.000000</td>\n",
              "      <td>2000.000000</td>\n",
              "      <td>2000.000000</td>\n",
              "      <td>2000.000000</td>\n",
              "      <td>2000.000000</td>\n",
              "      <td>2000.000000</td>\n",
              "      <td>2000.000000</td>\n",
              "      <td>2000.000000</td>\n",
              "      <td>2000.000000</td>\n",
              "    </tr>\n",
              "    <tr>\n",
              "      <th>mean</th>\n",
              "      <td>1238.518500</td>\n",
              "      <td>0.4950</td>\n",
              "      <td>1.522250</td>\n",
              "      <td>0.509500</td>\n",
              "      <td>4.309500</td>\n",
              "      <td>0.521500</td>\n",
              "      <td>32.046500</td>\n",
              "      <td>0.501750</td>\n",
              "      <td>140.249000</td>\n",
              "      <td>4.520500</td>\n",
              "      <td>...</td>\n",
              "      <td>645.108000</td>\n",
              "      <td>1251.515500</td>\n",
              "      <td>2124.213000</td>\n",
              "      <td>12.306500</td>\n",
              "      <td>5.767000</td>\n",
              "      <td>11.011000</td>\n",
              "      <td>0.761500</td>\n",
              "      <td>0.503000</td>\n",
              "      <td>0.507000</td>\n",
              "      <td>1.500000</td>\n",
              "    </tr>\n",
              "    <tr>\n",
              "      <th>std</th>\n",
              "      <td>439.418206</td>\n",
              "      <td>0.5001</td>\n",
              "      <td>0.816004</td>\n",
              "      <td>0.500035</td>\n",
              "      <td>4.341444</td>\n",
              "      <td>0.499662</td>\n",
              "      <td>18.145715</td>\n",
              "      <td>0.288416</td>\n",
              "      <td>35.399655</td>\n",
              "      <td>2.287837</td>\n",
              "      <td>...</td>\n",
              "      <td>443.780811</td>\n",
              "      <td>432.199447</td>\n",
              "      <td>1084.732044</td>\n",
              "      <td>4.213245</td>\n",
              "      <td>4.356398</td>\n",
              "      <td>5.463955</td>\n",
              "      <td>0.426273</td>\n",
              "      <td>0.500116</td>\n",
              "      <td>0.500076</td>\n",
              "      <td>1.118314</td>\n",
              "    </tr>\n",
              "    <tr>\n",
              "      <th>min</th>\n",
              "      <td>501.000000</td>\n",
              "      <td>0.0000</td>\n",
              "      <td>0.500000</td>\n",
              "      <td>0.000000</td>\n",
              "      <td>0.000000</td>\n",
              "      <td>0.000000</td>\n",
              "      <td>2.000000</td>\n",
              "      <td>0.100000</td>\n",
              "      <td>80.000000</td>\n",
              "      <td>1.000000</td>\n",
              "      <td>...</td>\n",
              "      <td>0.000000</td>\n",
              "      <td>500.000000</td>\n",
              "      <td>256.000000</td>\n",
              "      <td>5.000000</td>\n",
              "      <td>0.000000</td>\n",
              "      <td>2.000000</td>\n",
              "      <td>0.000000</td>\n",
              "      <td>0.000000</td>\n",
              "      <td>0.000000</td>\n",
              "      <td>0.000000</td>\n",
              "    </tr>\n",
              "    <tr>\n",
              "      <th>25%</th>\n",
              "      <td>851.750000</td>\n",
              "      <td>0.0000</td>\n",
              "      <td>0.700000</td>\n",
              "      <td>0.000000</td>\n",
              "      <td>1.000000</td>\n",
              "      <td>0.000000</td>\n",
              "      <td>16.000000</td>\n",
              "      <td>0.200000</td>\n",
              "      <td>109.000000</td>\n",
              "      <td>3.000000</td>\n",
              "      <td>...</td>\n",
              "      <td>282.750000</td>\n",
              "      <td>874.750000</td>\n",
              "      <td>1207.500000</td>\n",
              "      <td>9.000000</td>\n",
              "      <td>2.000000</td>\n",
              "      <td>6.000000</td>\n",
              "      <td>1.000000</td>\n",
              "      <td>0.000000</td>\n",
              "      <td>0.000000</td>\n",
              "      <td>0.750000</td>\n",
              "    </tr>\n",
              "    <tr>\n",
              "      <th>50%</th>\n",
              "      <td>1226.000000</td>\n",
              "      <td>0.0000</td>\n",
              "      <td>1.500000</td>\n",
              "      <td>1.000000</td>\n",
              "      <td>3.000000</td>\n",
              "      <td>1.000000</td>\n",
              "      <td>32.000000</td>\n",
              "      <td>0.500000</td>\n",
              "      <td>141.000000</td>\n",
              "      <td>4.000000</td>\n",
              "      <td>...</td>\n",
              "      <td>564.000000</td>\n",
              "      <td>1247.000000</td>\n",
              "      <td>2146.500000</td>\n",
              "      <td>12.000000</td>\n",
              "      <td>5.000000</td>\n",
              "      <td>11.000000</td>\n",
              "      <td>1.000000</td>\n",
              "      <td>1.000000</td>\n",
              "      <td>1.000000</td>\n",
              "      <td>1.500000</td>\n",
              "    </tr>\n",
              "    <tr>\n",
              "      <th>75%</th>\n",
              "      <td>1615.250000</td>\n",
              "      <td>1.0000</td>\n",
              "      <td>2.200000</td>\n",
              "      <td>1.000000</td>\n",
              "      <td>7.000000</td>\n",
              "      <td>1.000000</td>\n",
              "      <td>48.000000</td>\n",
              "      <td>0.800000</td>\n",
              "      <td>170.000000</td>\n",
              "      <td>7.000000</td>\n",
              "      <td>...</td>\n",
              "      <td>947.250000</td>\n",
              "      <td>1633.000000</td>\n",
              "      <td>3064.500000</td>\n",
              "      <td>16.000000</td>\n",
              "      <td>9.000000</td>\n",
              "      <td>16.000000</td>\n",
              "      <td>1.000000</td>\n",
              "      <td>1.000000</td>\n",
              "      <td>1.000000</td>\n",
              "      <td>2.250000</td>\n",
              "    </tr>\n",
              "    <tr>\n",
              "      <th>max</th>\n",
              "      <td>1998.000000</td>\n",
              "      <td>1.0000</td>\n",
              "      <td>3.000000</td>\n",
              "      <td>1.000000</td>\n",
              "      <td>19.000000</td>\n",
              "      <td>1.000000</td>\n",
              "      <td>64.000000</td>\n",
              "      <td>1.000000</td>\n",
              "      <td>200.000000</td>\n",
              "      <td>8.000000</td>\n",
              "      <td>...</td>\n",
              "      <td>1960.000000</td>\n",
              "      <td>1998.000000</td>\n",
              "      <td>3998.000000</td>\n",
              "      <td>19.000000</td>\n",
              "      <td>18.000000</td>\n",
              "      <td>20.000000</td>\n",
              "      <td>1.000000</td>\n",
              "      <td>1.000000</td>\n",
              "      <td>1.000000</td>\n",
              "      <td>3.000000</td>\n",
              "    </tr>\n",
              "  </tbody>\n",
              "</table>\n",
              "<p>8 rows × 21 columns</p>\n",
              "</div>\n",
              "      <button class=\"colab-df-convert\" onclick=\"convertToInteractive('df-3b496d31-f70b-4971-bb03-efe11f6f43b3')\"\n",
              "              title=\"Convert this dataframe to an interactive table.\"\n",
              "              style=\"display:none;\">\n",
              "        \n",
              "  <svg xmlns=\"http://www.w3.org/2000/svg\" height=\"24px\"viewBox=\"0 0 24 24\"\n",
              "       width=\"24px\">\n",
              "    <path d=\"M0 0h24v24H0V0z\" fill=\"none\"/>\n",
              "    <path d=\"M18.56 5.44l.94 2.06.94-2.06 2.06-.94-2.06-.94-.94-2.06-.94 2.06-2.06.94zm-11 1L8.5 8.5l.94-2.06 2.06-.94-2.06-.94L8.5 2.5l-.94 2.06-2.06.94zm10 10l.94 2.06.94-2.06 2.06-.94-2.06-.94-.94-2.06-.94 2.06-2.06.94z\"/><path d=\"M17.41 7.96l-1.37-1.37c-.4-.4-.92-.59-1.43-.59-.52 0-1.04.2-1.43.59L10.3 9.45l-7.72 7.72c-.78.78-.78 2.05 0 2.83L4 21.41c.39.39.9.59 1.41.59.51 0 1.02-.2 1.41-.59l7.78-7.78 2.81-2.81c.8-.78.8-2.07 0-2.86zM5.41 20L4 18.59l7.72-7.72 1.47 1.35L5.41 20z\"/>\n",
              "  </svg>\n",
              "      </button>\n",
              "      \n",
              "  <style>\n",
              "    .colab-df-container {\n",
              "      display:flex;\n",
              "      flex-wrap:wrap;\n",
              "      gap: 12px;\n",
              "    }\n",
              "\n",
              "    .colab-df-convert {\n",
              "      background-color: #E8F0FE;\n",
              "      border: none;\n",
              "      border-radius: 50%;\n",
              "      cursor: pointer;\n",
              "      display: none;\n",
              "      fill: #1967D2;\n",
              "      height: 32px;\n",
              "      padding: 0 0 0 0;\n",
              "      width: 32px;\n",
              "    }\n",
              "\n",
              "    .colab-df-convert:hover {\n",
              "      background-color: #E2EBFA;\n",
              "      box-shadow: 0px 1px 2px rgba(60, 64, 67, 0.3), 0px 1px 3px 1px rgba(60, 64, 67, 0.15);\n",
              "      fill: #174EA6;\n",
              "    }\n",
              "\n",
              "    [theme=dark] .colab-df-convert {\n",
              "      background-color: #3B4455;\n",
              "      fill: #D2E3FC;\n",
              "    }\n",
              "\n",
              "    [theme=dark] .colab-df-convert:hover {\n",
              "      background-color: #434B5C;\n",
              "      box-shadow: 0px 1px 3px 1px rgba(0, 0, 0, 0.15);\n",
              "      filter: drop-shadow(0px 1px 2px rgba(0, 0, 0, 0.3));\n",
              "      fill: #FFFFFF;\n",
              "    }\n",
              "  </style>\n",
              "\n",
              "      <script>\n",
              "        const buttonEl =\n",
              "          document.querySelector('#df-3b496d31-f70b-4971-bb03-efe11f6f43b3 button.colab-df-convert');\n",
              "        buttonEl.style.display =\n",
              "          google.colab.kernel.accessAllowed ? 'block' : 'none';\n",
              "\n",
              "        async function convertToInteractive(key) {\n",
              "          const element = document.querySelector('#df-3b496d31-f70b-4971-bb03-efe11f6f43b3');\n",
              "          const dataTable =\n",
              "            await google.colab.kernel.invokeFunction('convertToInteractive',\n",
              "                                                     [key], {});\n",
              "          if (!dataTable) return;\n",
              "\n",
              "          const docLinkHtml = 'Like what you see? Visit the ' +\n",
              "            '<a target=\"_blank\" href=https://colab.research.google.com/notebooks/data_table.ipynb>data table notebook</a>'\n",
              "            + ' to learn more about interactive tables.';\n",
              "          element.innerHTML = '';\n",
              "          dataTable['output_type'] = 'display_data';\n",
              "          await google.colab.output.renderOutput(dataTable, element);\n",
              "          const docLink = document.createElement('div');\n",
              "          docLink.innerHTML = docLinkHtml;\n",
              "          element.appendChild(docLink);\n",
              "        }\n",
              "      </script>\n",
              "    </div>\n",
              "  </div>\n",
              "  "
            ]
          },
          "metadata": {},
          "execution_count": 13
        }
      ]
    },
    {
      "cell_type": "markdown",
      "source": [
        "# 1.Data Description\n",
        "\n",
        "Battery_power - Total energy a battery can store in one time measured in mAh\n",
        "\n",
        "Blue - Has bluetooth or not\n",
        "\n",
        "Clock_speed - speed at which microprocessor executes instructions\n",
        "\n",
        "Dual_sim - Has dual sim support or not\n",
        "\n",
        "Fc - Front Camera mega pixels\n",
        "\n",
        "Four_g - Has 4G or not\n",
        "\n",
        "Int_memory - Internal Memory in Gigabytes\n",
        "\n",
        "M_dep - Mobile Depth in cm\n",
        "\n",
        "Mobile_wt - Weight of mobile phone\n",
        "\n",
        "N_cores - Number of cores of processor\n",
        "\n",
        "Pc - Primary Camera mega pixels\n",
        "\n",
        "Px_height - Pixel Resolution Height\n",
        "\n",
        "Px_width - Pixel Resolution Width\n",
        "\n",
        "Ram - Random Access Memory in Mega Bytes\n",
        "\n",
        "Sc_h - Screen Height of mobile in cm\n",
        "\n",
        "Sc_w - Screen Width of mobile in cm\n",
        "\n",
        "Talk_time - longest time that a single battery charge will last when you are\n",
        "\n",
        "Three_g - Has 3G or not\n",
        "\n",
        "Touch_screen - Has touch screen or not\n",
        "\n",
        "Wifi - Has wifi or not\n",
        "\n",
        "Price_range - This is the target variable."
      ],
      "metadata": {
        "id": "m2Rfq6pu30-A"
      }
    },
    {
      "cell_type": "markdown",
      "source": [
        "# 2.Check datatypes of variables "
      ],
      "metadata": {
        "id": "qZes1tQh-DPZ"
      }
    },
    {
      "cell_type": "code",
      "source": [
        "#information about null values and datatypes of each column\n",
        "df.info()"
      ],
      "metadata": {
        "colab": {
          "base_uri": "https://localhost:8080/"
        },
        "id": "7J9QIGIa-XRa",
        "outputId": "5f6d84b3-be08-4180-9b8f-179b4e23d83a"
      },
      "execution_count": null,
      "outputs": [
        {
          "output_type": "stream",
          "name": "stdout",
          "text": [
            "<class 'pandas.core.frame.DataFrame'>\n",
            "RangeIndex: 2000 entries, 0 to 1999\n",
            "Data columns (total 21 columns):\n",
            " #   Column         Non-Null Count  Dtype  \n",
            "---  ------         --------------  -----  \n",
            " 0   battery_power  2000 non-null   int64  \n",
            " 1   blue           2000 non-null   int64  \n",
            " 2   clock_speed    2000 non-null   float64\n",
            " 3   dual_sim       2000 non-null   int64  \n",
            " 4   fc             2000 non-null   int64  \n",
            " 5   four_g         2000 non-null   int64  \n",
            " 6   int_memory     2000 non-null   int64  \n",
            " 7   m_dep          2000 non-null   float64\n",
            " 8   mobile_wt      2000 non-null   int64  \n",
            " 9   n_cores        2000 non-null   int64  \n",
            " 10  pc             2000 non-null   int64  \n",
            " 11  px_height      2000 non-null   int64  \n",
            " 12  px_width       2000 non-null   int64  \n",
            " 13  ram            2000 non-null   int64  \n",
            " 14  sc_h           2000 non-null   int64  \n",
            " 15  sc_w           2000 non-null   int64  \n",
            " 16  talk_time      2000 non-null   int64  \n",
            " 17  three_g        2000 non-null   int64  \n",
            " 18  touch_screen   2000 non-null   int64  \n",
            " 19  wifi           2000 non-null   int64  \n",
            " 20  price_range    2000 non-null   int64  \n",
            "dtypes: float64(2), int64(19)\n",
            "memory usage: 328.2 KB\n"
          ]
        }
      ]
    },
    {
      "cell_type": "markdown",
      "source": [
        "1.All features"
      ],
      "metadata": {
        "id": "ufgQXEE2_4p-"
      }
    },
    {
      "cell_type": "code",
      "source": [
        "#all features including output\n",
        "all_features=df.columns\n",
        "print(\"Count of all fetures {} \".format(len(all_features)))\n",
        "all_features"
      ],
      "metadata": {
        "colab": {
          "base_uri": "https://localhost:8080/"
        },
        "id": "1HqF4IF--0RF",
        "outputId": "746082a5-d39b-454f-ef4b-c91db2d71d18"
      },
      "execution_count": null,
      "outputs": [
        {
          "output_type": "stream",
          "name": "stdout",
          "text": [
            "Count of all fetures 21 \n"
          ]
        },
        {
          "output_type": "execute_result",
          "data": {
            "text/plain": [
              "Index(['battery_power', 'blue', 'clock_speed', 'dual_sim', 'fc', 'four_g',\n",
              "       'int_memory', 'm_dep', 'mobile_wt', 'n_cores', 'pc', 'px_height',\n",
              "       'px_width', 'ram', 'sc_h', 'sc_w', 'talk_time', 'three_g',\n",
              "       'touch_screen', 'wifi', 'price_range'],\n",
              "      dtype='object')"
            ]
          },
          "metadata": {},
          "execution_count": 15
        }
      ]
    },
    {
      "cell_type": "markdown",
      "source": [
        "2.Numerical Features"
      ],
      "metadata": {
        "id": "cfU70kmq_-pg"
      }
    },
    {
      "cell_type": "code",
      "source": [
        "#Numerical features\n",
        "Numerical_features=df.describe().columns\n",
        "print(\"Count of Numerical_features {} \".format(len(Numerical_features)))\n",
        "Numerical_features"
      ],
      "metadata": {
        "colab": {
          "base_uri": "https://localhost:8080/"
        },
        "id": "w0Yv-noxACoe",
        "outputId": "034ce978-2fd0-48ec-c1a4-f1ea865136b4"
      },
      "execution_count": null,
      "outputs": [
        {
          "output_type": "stream",
          "name": "stdout",
          "text": [
            "Count of Numerical_features 21 \n"
          ]
        },
        {
          "output_type": "execute_result",
          "data": {
            "text/plain": [
              "Index(['battery_power', 'blue', 'clock_speed', 'dual_sim', 'fc', 'four_g',\n",
              "       'int_memory', 'm_dep', 'mobile_wt', 'n_cores', 'pc', 'px_height',\n",
              "       'px_width', 'ram', 'sc_h', 'sc_w', 'talk_time', 'three_g',\n",
              "       'touch_screen', 'wifi', 'price_range'],\n",
              "      dtype='object')"
            ]
          },
          "metadata": {},
          "execution_count": 16
        }
      ]
    },
    {
      "cell_type": "markdown",
      "source": [
        "Discrete Numerical variables"
      ],
      "metadata": {
        "id": "mUQdIGoXARla"
      }
    },
    {
      "cell_type": "code",
      "source": [
        "#discrete features with unique values less than 10 \n",
        "d_features=[fea for fea in Numerical_features if len(df[fea].unique())<10]\n",
        "print(\"Count of discrete features {} \".format(len(d_features)))\n",
        "d_features"
      ],
      "metadata": {
        "colab": {
          "base_uri": "https://localhost:8080/"
        },
        "id": "jJfDCyw-AZLh",
        "outputId": "ab8987e1-aa2a-4fba-d927-9ce7b098fd1c"
      },
      "execution_count": null,
      "outputs": [
        {
          "output_type": "stream",
          "name": "stdout",
          "text": [
            "Count of discrete features 8 \n"
          ]
        },
        {
          "output_type": "execute_result",
          "data": {
            "text/plain": [
              "['blue',\n",
              " 'dual_sim',\n",
              " 'four_g',\n",
              " 'n_cores',\n",
              " 'three_g',\n",
              " 'touch_screen',\n",
              " 'wifi',\n",
              " 'price_range']"
            ]
          },
          "metadata": {},
          "execution_count": 20
        }
      ]
    },
    {
      "cell_type": "markdown",
      "source": [
        "Continuous Numerical variables"
      ],
      "metadata": {
        "id": "qmm1W7s9Bf7n"
      }
    },
    {
      "cell_type": "code",
      "source": [
        "#continous features with unique values more than 10 \n",
        "c_features=[fea for fea in Numerical_features if fea not in d_features]\n",
        "print(\"Count of continous features {} \".format(len(c_features)))\n",
        "c_features"
      ],
      "metadata": {
        "colab": {
          "base_uri": "https://localhost:8080/"
        },
        "id": "rqQiM-xNBt5n",
        "outputId": "f46aff4b-52b4-4f76-c1c8-4231b1c6750f"
      },
      "execution_count": null,
      "outputs": [
        {
          "output_type": "stream",
          "name": "stdout",
          "text": [
            "Count of continous features 13 \n"
          ]
        },
        {
          "output_type": "execute_result",
          "data": {
            "text/plain": [
              "['battery_power',\n",
              " 'clock_speed',\n",
              " 'fc',\n",
              " 'int_memory',\n",
              " 'm_dep',\n",
              " 'mobile_wt',\n",
              " 'pc',\n",
              " 'px_height',\n",
              " 'px_width',\n",
              " 'ram',\n",
              " 'sc_h',\n",
              " 'sc_w',\n",
              " 'talk_time']"
            ]
          },
          "metadata": {},
          "execution_count": 21
        }
      ]
    },
    {
      "cell_type": "markdown",
      "source": [
        "# 3.Data Cleaning"
      ],
      "metadata": {
        "id": "g5UhcCD0CItr"
      }
    },
    {
      "cell_type": "code",
      "source": [
        "#Find NaN values of each row\n",
        "df.isna().sum()"
      ],
      "metadata": {
        "colab": {
          "base_uri": "https://localhost:8080/"
        },
        "id": "ufWlBvWq3pV8",
        "outputId": "ab8738b9-efbb-4433-96dc-77489887c029"
      },
      "execution_count": null,
      "outputs": [
        {
          "output_type": "execute_result",
          "data": {
            "text/plain": [
              "battery_power    0\n",
              "blue             0\n",
              "clock_speed      0\n",
              "dual_sim         0\n",
              "fc               0\n",
              "four_g           0\n",
              "int_memory       0\n",
              "m_dep            0\n",
              "mobile_wt        0\n",
              "n_cores          0\n",
              "pc               0\n",
              "px_height        0\n",
              "px_width         0\n",
              "ram              0\n",
              "sc_h             0\n",
              "sc_w             0\n",
              "talk_time        0\n",
              "three_g          0\n",
              "touch_screen     0\n",
              "wifi             0\n",
              "price_range      0\n",
              "dtype: int64"
            ]
          },
          "metadata": {},
          "execution_count": 22
        }
      ]
    },
    {
      "cell_type": "markdown",
      "source": [
        "**<<<<<<< There is no null value present in dataframe >>>>>>>**"
      ],
      "metadata": {
        "id": "W9P-zW5fCVr3"
      }
    },
    {
      "cell_type": "markdown",
      "source": [
        "#<font color='red'> **Data Visualization**"
      ],
      "metadata": {
        "id": "5d9P0tlK5HpQ"
      }
    },
    {
      "cell_type": "markdown",
      "source": [
        "# 1.Check classification type"
      ],
      "metadata": {
        "id": "FEZv_5NBxCxe"
      }
    },
    {
      "cell_type": "code",
      "source": [
        "#pie plot to find exact percentage of output variable\n",
        "class_type=df[\"price_range\"].value_counts()\n",
        "#set color style\n",
        "palette=sns.color_palette(\"Set3\")\n",
        "plt.pie(class_type,shadow=True,colors=palette,radius=3,autopct='%.0f%%',explode=[0.0,0.0,0.0,0.2])\n",
        "plt.legend(loc=10,labels=df['price_range'].unique())"
      ],
      "metadata": {
        "colab": {
          "base_uri": "https://localhost:8080/",
          "height": 584
        },
        "id": "A_Wn5b8kxKza",
        "outputId": "a54c8734-5211-48db-8b05-f6ee5a50823d"
      },
      "execution_count": null,
      "outputs": [
        {
          "output_type": "execute_result",
          "data": {
            "text/plain": [
              "<matplotlib.legend.Legend at 0x7f5b11590e90>"
            ]
          },
          "metadata": {},
          "execution_count": 23
        },
        {
          "output_type": "display_data",
          "data": {
            "text/plain": [
              "<Figure size 432x288 with 1 Axes>"
            ],
            "image/png": "[encoded data removed]"
          },
          "metadata": {}
        }
      ]
    },
    {
      "cell_type": "markdown",
      "source": [
        "0-Low cost\n",
        "\n",
        "1-Medium cost\n",
        " \n",
        "2-High cost\n",
        " \n",
        "3-Very high cost"
      ],
      "metadata": {
        "id": "ccyCK9nuyy7f"
      }
    },
    {
      "cell_type": "markdown",
      "source": [
        "**<<<<<<<< Multi class classification >>>>>>>>**"
      ],
      "metadata": {
        "id": "eucy9OEk3WER"
      }
    },
    {
      "cell_type": "markdown",
      "source": [
        "# 2.To find Correlation between features"
      ],
      "metadata": {
        "id": "vNA4fVdjQaFE"
      }
    },
    {
      "cell_type": "code",
      "source": [
        "#Correlation\n",
        "corr_val=df.corr()  \n",
        "plt.figure(figsize=(18,18))\n",
        "sns.heatmap(corr_val,cbar=True,square=True,fmt=\".3f\",annot=True,annot_kws={\"size\":10}, cmap=\"Greens\",linewidths=0.01,linecolor=\"black\")"
      ],
      "metadata": {
        "colab": {
          "base_uri": "https://localhost:8080/",
          "height": 1000
        },
        "id": "0wFdxeG0_WF_",
        "outputId": "0f36faac-03e0-4719-c444-6b5d5985905a"
      },
      "execution_count": null,
      "outputs": [
        {
          "output_type": "execute_result",
          "data": {
            "text/plain": [
              "<matplotlib.axes._subplots.AxesSubplot at 0x7f5b0c67d950>"
            ]
          },
          "metadata": {},
          "execution_count": 28
        },
        {
          "output_type": "display_data",
          "data": {
            "text/plain": [
              "<Figure size 1296x1296 with 2 Axes>"
            ],
            "image/png": "[encoded data removed]"
          },
          "metadata": {
            "needs_background": "light"
          }
        }
      ]
    },
    {
      "cell_type": "markdown",
      "source": [
        "**<<<<< From above heat diagram we clearly find,only \"ram\" feature has more correlation value with our dependent variable \"price_range\". >>>>>**"
      ],
      "metadata": {
        "id": "sZeC7TYwQ0r_"
      }
    },
    {
      "cell_type": "markdown",
      "source": [
        "# 3.Distribution of output variable which is \"Price_range\""
      ],
      "metadata": {
        "id": "9k35ShNEFVwy"
      }
    },
    {
      "cell_type": "code",
      "source": [
        "#Dependent variable 'Price'\n",
        "plt.figure(figsize=(7,7))\n",
        "sns.distplot(df['price_range'],color=\"r\")\n",
        "plt.title(\"Price_range Vs Density of price range\")"
      ],
      "metadata": {
        "colab": {
          "base_uri": "https://localhost:8080/",
          "height": 476
        },
        "id": "FCGD4TAiAJbR",
        "outputId": "43ade56f-c6b7-45f8-bb02-e0810541e033"
      },
      "execution_count": null,
      "outputs": [
        {
          "output_type": "execute_result",
          "data": {
            "text/plain": [
              "Text(0.5, 1.0, 'Price_range Vs Density of price range')"
            ]
          },
          "metadata": {},
          "execution_count": 283
        },
        {
          "output_type": "display_data",
          "data": {
            "text/plain": [
              "<Figure size 504x504 with 1 Axes>"
            ],
            "image/png": "[encoded data removed]"
          },
          "metadata": {
            "needs_background": "light"
          }
        }
      ]
    },
    {
      "cell_type": "markdown",
      "source": [
        "**<<<<<<< Balanced Dataset >>>>>>>>**"
      ],
      "metadata": {
        "id": "0M0a6Ls2GbNX"
      }
    },
    {
      "cell_type": "markdown",
      "source": [
        "# 4.Distribution of discrete numerical variables"
      ],
      "metadata": {
        "id": "Of--lLUA8Iof"
      }
    },
    {
      "cell_type": "code",
      "source": [
        "# create subplots\n",
        "fig, axs = plt.subplots(figsize=(22,18))\n",
        "\n",
        "#distance between two plots\n",
        "plt.subplots_adjust(hspace=0.5)\n",
        "\n",
        "# loop through the length of discrete features \n",
        "#\"n\" for iterate position of plot\n",
        "#\"m\" for select each feature in discrete variable\n",
        "for n, m in enumerate(d_features[:-1]):\n",
        "    # add a new subplot iteratively\n",
        "    ax = plt.subplot(4, 2, n + 1)\n",
        "\n",
        "    #to plot count of discrete numericals featuers\n",
        "    sns.countplot(data=df,x=df[m],hue=\"price_range\",palette=\"coolwarm\") \n",
        "\n",
        "    # chart formatting\n",
        "    ax.set_title((m+\" \"+\"Vs\"+\" \"+\"Count\").upper())\n",
        "    ax.set_xlabel(m+\" category\")"
      ],
      "metadata": {
        "colab": {
          "base_uri": "https://localhost:8080/",
          "height": 1000
        },
        "id": "nAJ2xSZ751F3",
        "outputId": "d0784617-8dd1-495d-e1bd-6791e6a54b5f"
      },
      "execution_count": null,
      "outputs": [
        {
          "output_type": "display_data",
          "data": {
            "text/plain": [
              "<Figure size 1584x1296 with 7 Axes>"
            ],
            "image/png": "[encoded data removed]"
          },
          "metadata": {
            "needs_background": "light"
          }
        }
      ]
    },
    {
      "cell_type": "markdown",
      "source": [
        "# 5.Distribution of continuous numerical variables"
      ],
      "metadata": {
        "id": "dxd6gFd6J7O8"
      }
    },
    {
      "cell_type": "code",
      "source": [
        "# create subplots\n",
        "fig, ax1 = plt.subplots(figsize=(22,30))\n",
        "\n",
        "#distance between two plots\n",
        "plt.subplots_adjust(hspace=1)\n",
        "\n",
        "# loop through the length of continuous features \n",
        "#\"a\" for iterate position of plot\n",
        "#\"b\" for select each feature in continuous variable\n",
        "for a, b in enumerate(c_features):\n",
        "    # add a new subplot iteratively\n",
        "    ax1 = plt.subplot(7, 2, a + 1)\n",
        "\n",
        "    #to plot count of continuous numericals featuers\n",
        "    sns.histplot(data=df,x=df[b],kde=True) \n",
        "\n",
        "    # chart formatting\n",
        "    ax1.set_title((b+\" \"+\"Vs\"+\" \"+\"Count\").upper())\n",
        "    ax1.set_xlabel(b+\" category\")"
      ],
      "metadata": {
        "colab": {
          "base_uri": "https://localhost:8080/",
          "height": 1000
        },
        "id": "f4b3zlMI8b0G",
        "outputId": "0256e136-af9d-4104-9d5e-70863d339dbf"
      },
      "execution_count": null,
      "outputs": [
        {
          "output_type": "display_data",
          "data": {
            "text/plain": [
              "<Figure size 1584x2160 with 13 Axes>"
            ],
            "image/png": "[encoded data removed]"
          },
          "metadata": {
            "needs_background": "light"
          }
        }
      ]
    },
    {
      "cell_type": "markdown",
      "source": [
        "# 6.Use Groupby function to analyse discrete features"
      ],
      "metadata": {
        "id": "YX4iAuQpVvQd"
      }
    },
    {
      "cell_type": "code",
      "source": [
        "#grouped by \"blue\",\"dual_sim\",\"four_g\",\"three_g\",\"touch_screen\",\"wifi\" and \"price_range\"\n",
        "df_autox = pd.DataFrame(df.groupby([\"blue\",\"dual_sim\",\"four_g\",\"three_g\",\"touch_screen\",\"wifi\"])[\"price_range\"].mean().sort_values(ascending = False)) \n",
        "df_autox.plot.bar(color=\"r\",figsize=(20, 6))\n",
        "plt.ylabel('average price range')\n",
        "plt.title('Labled featuers vs Average Price')\n",
        "plt.show()"
      ],
      "metadata": {
        "colab": {
          "base_uri": "https://localhost:8080/",
          "height": 472
        },
        "id": "MGqvjtDhC-hG",
        "outputId": "7a5cf0e3-dee5-4bb2-87cd-817d3a09d7e7"
      },
      "execution_count": null,
      "outputs": [
        {
          "output_type": "display_data",
          "data": {
            "text/plain": [
              "<Figure size 1440x432 with 1 Axes>"
            ],
            "image/png": "[encoded data removed]"
          },
          "metadata": {
            "needs_background": "light"
          }
        }
      ]
    },
    {
      "cell_type": "markdown",
      "source": [
        "**0=No**\n",
        "\n",
        "**1=Yes**"
      ],
      "metadata": {
        "id": "HeHInOKhSIHt"
      }
    },
    {
      "cell_type": "markdown",
      "source": [
        "#<font color='red'> **Classification Algorithm**"
      ],
      "metadata": {
        "id": "CUncdgJEEei1"
      }
    },
    {
      "cell_type": "markdown",
      "source": [
        "**<<<< As we know,we have four types of mobile range and dataset is non linear.So we use one ensemble method like \"XGBoost\".Also use \"SVM\" classification algoritham and compare accuracy score.Select model for this problem which can give better accuracy value >>>>>>**"
      ],
      "metadata": {
        "id": "IbcwhJSJWGa7"
      }
    },
    {
      "cell_type": "markdown",
      "source": [
        "# 1.Saperate out dependent and independent dataframe"
      ],
      "metadata": {
        "id": "3Z3QL1M1SifL"
      }
    },
    {
      "cell_type": "markdown",
      "source": [
        "**Dependent feature= \"price_range\"**"
      ],
      "metadata": {
        "id": "fnTQVEjDSAje"
      }
    },
    {
      "cell_type": "code",
      "source": [
        "#independent features\n",
        "x=df.copy()\n",
        "x=x.drop(\"price_range\",axis=1)\n",
        "x.head()"
      ],
      "metadata": {
        "colab": {
          "base_uri": "https://localhost:8080/",
          "height": 270
        },
        "id": "1VY3q_UYEdFl",
        "outputId": "23f29ce3-cf0c-4db9-8245-339162f4047c"
      },
      "execution_count": null,
      "outputs": [
        {
          "output_type": "execute_result",
          "data": {
            "text/plain": [
              "   battery_power  blue  clock_speed  dual_sim  fc  four_g  int_memory  m_dep  \\\n",
              "0            842     0          2.2         0   1       0           7    0.6   \n",
              "1           1021     1          0.5         1   0       1          53    0.7   \n",
              "2            563     1          0.5         1   2       1          41    0.9   \n",
              "3            615     1          2.5         0   0       0          10    0.8   \n",
              "4           1821     1          1.2         0  13       1          44    0.6   \n",
              "\n",
              "   mobile_wt  n_cores  pc  px_height  px_width   ram  sc_h  sc_w  talk_time  \\\n",
              "0        188        2   2         20       756  2549     9     7         19   \n",
              "1        136        3   6        905      1988  2631    17     3          7   \n",
              "2        145        5   6       1263      1716  2603    11     2          9   \n",
              "3        131        6   9       1216      1786  2769    16     8         11   \n",
              "4        141        2  14       1208      1212  1411     8     2         15   \n",
              "\n",
              "   three_g  touch_screen  wifi  \n",
              "0        0             0     1  \n",
              "1        1             1     0  \n",
              "2        1             1     0  \n",
              "3        1             0     0  \n",
              "4        1             1     0  "
            ],
            "text/html": [
              "\n",
              "  <div id=\"df-37f982b1-3b60-4922-b907-13dcd9934b4f\">\n",
              "    <div class=\"colab-df-container\">\n",
              "      <div>\n",
              "<style scoped>\n",
              "    .dataframe tbody tr th:only-of-type {\n",
              "        vertical-align: middle;\n",
              "    }\n",
              "\n",
              "    .dataframe tbody tr th {\n",
              "        vertical-align: top;\n",
              "    }\n",
              "\n",
              "    .dataframe thead th {\n",
              "        text-align: right;\n",
              "    }\n",
              "</style>\n",
              "<table border=\"1\" class=\"dataframe\">\n",
              "  <thead>\n",
              "    <tr style=\"text-align: right;\">\n",
              "      <th></th>\n",
              "      <th>battery_power</th>\n",
              "      <th>blue</th>\n",
              "      <th>clock_speed</th>\n",
              "      <th>dual_sim</th>\n",
              "      <th>fc</th>\n",
              "      <th>four_g</th>\n",
              "      <th>int_memory</th>\n",
              "      <th>m_dep</th>\n",
              "      <th>mobile_wt</th>\n",
              "      <th>n_cores</th>\n",
              "      <th>pc</th>\n",
              "      <th>px_height</th>\n",
              "      <th>px_width</th>\n",
              "      <th>ram</th>\n",
              "      <th>sc_h</th>\n",
              "      <th>sc_w</th>\n",
              "      <th>talk_time</th>\n",
              "      <th>three_g</th>\n",
              "      <th>touch_screen</th>\n",
              "      <th>wifi</th>\n",
              "    </tr>\n",
              "  </thead>\n",
              "  <tbody>\n",
              "    <tr>\n",
              "      <th>0</th>\n",
              "      <td>842</td>\n",
              "      <td>0</td>\n",
              "      <td>2.2</td>\n",
              "      <td>0</td>\n",
              "      <td>1</td>\n",
              "      <td>0</td>\n",
              "      <td>7</td>\n",
              "      <td>0.6</td>\n",
              "      <td>188</td>\n",
              "      <td>2</td>\n",
              "      <td>2</td>\n",
              "      <td>20</td>\n",
              "      <td>756</td>\n",
              "      <td>2549</td>\n",
              "      <td>9</td>\n",
              "      <td>7</td>\n",
              "      <td>19</td>\n",
              "      <td>0</td>\n",
              "      <td>0</td>\n",
              "      <td>1</td>\n",
              "    </tr>\n",
              "    <tr>\n",
              "      <th>1</th>\n",
              "      <td>1021</td>\n",
              "      <td>1</td>\n",
              "      <td>0.5</td>\n",
              "      <td>1</td>\n",
              "      <td>0</td>\n",
              "      <td>1</td>\n",
              "      <td>53</td>\n",
              "      <td>0.7</td>\n",
              "      <td>136</td>\n",
              "      <td>3</td>\n",
              "      <td>6</td>\n",
              "      <td>905</td>\n",
              "      <td>1988</td>\n",
              "      <td>2631</td>\n",
              "      <td>17</td>\n",
              "      <td>3</td>\n",
              "      <td>7</td>\n",
              "      <td>1</td>\n",
              "      <td>1</td>\n",
              "      <td>0</td>\n",
              "    </tr>\n",
              "    <tr>\n",
              "      <th>2</th>\n",
              "      <td>563</td>\n",
              "      <td>1</td>\n",
              "      <td>0.5</td>\n",
              "      <td>1</td>\n",
              "      <td>2</td>\n",
              "      <td>1</td>\n",
              "      <td>41</td>\n",
              "      <td>0.9</td>\n",
              "      <td>145</td>\n",
              "      <td>5</td>\n",
              "      <td>6</td>\n",
              "      <td>1263</td>\n",
              "      <td>1716</td>\n",
              "      <td>2603</td>\n",
              "      <td>11</td>\n",
              "      <td>2</td>\n",
              "      <td>9</td>\n",
              "      <td>1</td>\n",
              "      <td>1</td>\n",
              "      <td>0</td>\n",
              "    </tr>\n",
              "    <tr>\n",
              "      <th>3</th>\n",
              "      <td>615</td>\n",
              "      <td>1</td>\n",
              "      <td>2.5</td>\n",
              "      <td>0</td>\n",
              "      <td>0</td>\n",
              "      <td>0</td>\n",
              "      <td>10</td>\n",
              "      <td>0.8</td>\n",
              "      <td>131</td>\n",
              "      <td>6</td>\n",
              "      <td>9</td>\n",
              "      <td>1216</td>\n",
              "      <td>1786</td>\n",
              "      <td>2769</td>\n",
              "      <td>16</td>\n",
              "      <td>8</td>\n",
              "      <td>11</td>\n",
              "      <td>1</td>\n",
              "      <td>0</td>\n",
              "      <td>0</td>\n",
              "    </tr>\n",
              "    <tr>\n",
              "      <th>4</th>\n",
              "      <td>1821</td>\n",
              "      <td>1</td>\n",
              "      <td>1.2</td>\n",
              "      <td>0</td>\n",
              "      <td>13</td>\n",
              "      <td>1</td>\n",
              "      <td>44</td>\n",
              "      <td>0.6</td>\n",
              "      <td>141</td>\n",
              "      <td>2</td>\n",
              "      <td>14</td>\n",
              "      <td>1208</td>\n",
              "      <td>1212</td>\n",
              "      <td>1411</td>\n",
              "      <td>8</td>\n",
              "      <td>2</td>\n",
              "      <td>15</td>\n",
              "      <td>1</td>\n",
              "      <td>1</td>\n",
              "      <td>0</td>\n",
              "    </tr>\n",
              "  </tbody>\n",
              "</table>\n",
              "</div>\n",
              "      <button class=\"colab-df-convert\" onclick=\"convertToInteractive('df-37f982b1-3b60-4922-b907-13dcd9934b4f')\"\n",
              "              title=\"Convert this dataframe to an interactive table.\"\n",
              "              style=\"display:none;\">\n",
              "        \n",
              "  <svg xmlns=\"http://www.w3.org/2000/svg\" height=\"24px\"viewBox=\"0 0 24 24\"\n",
              "       width=\"24px\">\n",
              "    <path d=\"M0 0h24v24H0V0z\" fill=\"none\"/>\n",
              "    <path d=\"M18.56 5.44l.94 2.06.94-2.06 2.06-.94-2.06-.94-.94-2.06-.94 2.06-2.06.94zm-11 1L8.5 8.5l.94-2.06 2.06-.94-2.06-.94L8.5 2.5l-.94 2.06-2.06.94zm10 10l.94 2.06.94-2.06 2.06-.94-2.06-.94-.94-2.06-.94 2.06-2.06.94z\"/><path d=\"M17.41 7.96l-1.37-1.37c-.4-.4-.92-.59-1.43-.59-.52 0-1.04.2-1.43.59L10.3 9.45l-7.72 7.72c-.78.78-.78 2.05 0 2.83L4 21.41c.39.39.9.59 1.41.59.51 0 1.02-.2 1.41-.59l7.78-7.78 2.81-2.81c.8-.78.8-2.07 0-2.86zM5.41 20L4 18.59l7.72-7.72 1.47 1.35L5.41 20z\"/>\n",
              "  </svg>\n",
              "      </button>\n",
              "      \n",
              "  <style>\n",
              "    .colab-df-container {\n",
              "      display:flex;\n",
              "      flex-wrap:wrap;\n",
              "      gap: 12px;\n",
              "    }\n",
              "\n",
              "    .colab-df-convert {\n",
              "      background-color: #E8F0FE;\n",
              "      border: none;\n",
              "      border-radius: 50%;\n",
              "      cursor: pointer;\n",
              "      display: none;\n",
              "      fill: #1967D2;\n",
              "      height: 32px;\n",
              "      padding: 0 0 0 0;\n",
              "      width: 32px;\n",
              "    }\n",
              "\n",
              "    .colab-df-convert:hover {\n",
              "      background-color: #E2EBFA;\n",
              "      box-shadow: 0px 1px 2px rgba(60, 64, 67, 0.3), 0px 1px 3px 1px rgba(60, 64, 67, 0.15);\n",
              "      fill: #174EA6;\n",
              "    }\n",
              "\n",
              "    [theme=dark] .colab-df-convert {\n",
              "      background-color: #3B4455;\n",
              "      fill: #D2E3FC;\n",
              "    }\n",
              "\n",
              "    [theme=dark] .colab-df-convert:hover {\n",
              "      background-color: #434B5C;\n",
              "      box-shadow: 0px 1px 3px 1px rgba(0, 0, 0, 0.15);\n",
              "      filter: drop-shadow(0px 1px 2px rgba(0, 0, 0, 0.3));\n",
              "      fill: #FFFFFF;\n",
              "    }\n",
              "  </style>\n",
              "\n",
              "      <script>\n",
              "        const buttonEl =\n",
              "          document.querySelector('#df-37f982b1-3b60-4922-b907-13dcd9934b4f button.colab-df-convert');\n",
              "        buttonEl.style.display =\n",
              "          google.colab.kernel.accessAllowed ? 'block' : 'none';\n",
              "\n",
              "        async function convertToInteractive(key) {\n",
              "          const element = document.querySelector('#df-37f982b1-3b60-4922-b907-13dcd9934b4f');\n",
              "          const dataTable =\n",
              "            await google.colab.kernel.invokeFunction('convertToInteractive',\n",
              "                                                     [key], {});\n",
              "          if (!dataTable) return;\n",
              "\n",
              "          const docLinkHtml = 'Like what you see? Visit the ' +\n",
              "            '<a target=\"_blank\" href=https://colab.research.google.com/notebooks/data_table.ipynb>data table notebook</a>'\n",
              "            + ' to learn more about interactive tables.';\n",
              "          element.innerHTML = '';\n",
              "          dataTable['output_type'] = 'display_data';\n",
              "          await google.colab.output.renderOutput(dataTable, element);\n",
              "          const docLink = document.createElement('div');\n",
              "          docLink.innerHTML = docLinkHtml;\n",
              "          element.appendChild(docLink);\n",
              "        }\n",
              "      </script>\n",
              "    </div>\n",
              "  </div>\n",
              "  "
            ]
          },
          "metadata": {},
          "execution_count": 287
        }
      ]
    },
    {
      "cell_type": "code",
      "source": [
        "#dependent features\n",
        "y=pd.DataFrame(df[\"price_range\"])\n",
        "y.head()"
      ],
      "metadata": {
        "colab": {
          "base_uri": "https://localhost:8080/",
          "height": 206
        },
        "id": "Q1r6cA7gE1BQ",
        "outputId": "7312d0b6-dac1-4b57-8ec8-ac9b005971d9"
      },
      "execution_count": null,
      "outputs": [
        {
          "output_type": "execute_result",
          "data": {
            "text/plain": [
              "   price_range\n",
              "0            1\n",
              "1            2\n",
              "2            2\n",
              "3            2\n",
              "4            1"
            ],
            "text/html": [
              "\n",
              "  <div id=\"df-1285cce7-3fea-49f4-b46b-00daa63cd278\">\n",
              "    <div class=\"colab-df-container\">\n",
              "      <div>\n",
              "<style scoped>\n",
              "    .dataframe tbody tr th:only-of-type {\n",
              "        vertical-align: middle;\n",
              "    }\n",
              "\n",
              "    .dataframe tbody tr th {\n",
              "        vertical-align: top;\n",
              "    }\n",
              "\n",
              "    .dataframe thead th {\n",
              "        text-align: right;\n",
              "    }\n",
              "</style>\n",
              "<table border=\"1\" class=\"dataframe\">\n",
              "  <thead>\n",
              "    <tr style=\"text-align: right;\">\n",
              "      <th></th>\n",
              "      <th>price_range</th>\n",
              "    </tr>\n",
              "  </thead>\n",
              "  <tbody>\n",
              "    <tr>\n",
              "      <th>0</th>\n",
              "      <td>1</td>\n",
              "    </tr>\n",
              "    <tr>\n",
              "      <th>1</th>\n",
              "      <td>2</td>\n",
              "    </tr>\n",
              "    <tr>\n",
              "      <th>2</th>\n",
              "      <td>2</td>\n",
              "    </tr>\n",
              "    <tr>\n",
              "      <th>3</th>\n",
              "      <td>2</td>\n",
              "    </tr>\n",
              "    <tr>\n",
              "      <th>4</th>\n",
              "      <td>1</td>\n",
              "    </tr>\n",
              "  </tbody>\n",
              "</table>\n",
              "</div>\n",
              "      <button class=\"colab-df-convert\" onclick=\"convertToInteractive('df-1285cce7-3fea-49f4-b46b-00daa63cd278')\"\n",
              "              title=\"Convert this dataframe to an interactive table.\"\n",
              "              style=\"display:none;\">\n",
              "        \n",
              "  <svg xmlns=\"http://www.w3.org/2000/svg\" height=\"24px\"viewBox=\"0 0 24 24\"\n",
              "       width=\"24px\">\n",
              "    <path d=\"M0 0h24v24H0V0z\" fill=\"none\"/>\n",
              "    <path d=\"M18.56 5.44l.94 2.06.94-2.06 2.06-.94-2.06-.94-.94-2.06-.94 2.06-2.06.94zm-11 1L8.5 8.5l.94-2.06 2.06-.94-2.06-.94L8.5 2.5l-.94 2.06-2.06.94zm10 10l.94 2.06.94-2.06 2.06-.94-2.06-.94-.94-2.06-.94 2.06-2.06.94z\"/><path d=\"M17.41 7.96l-1.37-1.37c-.4-.4-.92-.59-1.43-.59-.52 0-1.04.2-1.43.59L10.3 9.45l-7.72 7.72c-.78.78-.78 2.05 0 2.83L4 21.41c.39.39.9.59 1.41.59.51 0 1.02-.2 1.41-.59l7.78-7.78 2.81-2.81c.8-.78.8-2.07 0-2.86zM5.41 20L4 18.59l7.72-7.72 1.47 1.35L5.41 20z\"/>\n",
              "  </svg>\n",
              "      </button>\n",
              "      \n",
              "  <style>\n",
              "    .colab-df-container {\n",
              "      display:flex;\n",
              "      flex-wrap:wrap;\n",
              "      gap: 12px;\n",
              "    }\n",
              "\n",
              "    .colab-df-convert {\n",
              "      background-color: #E8F0FE;\n",
              "      border: none;\n",
              "      border-radius: 50%;\n",
              "      cursor: pointer;\n",
              "      display: none;\n",
              "      fill: #1967D2;\n",
              "      height: 32px;\n",
              "      padding: 0 0 0 0;\n",
              "      width: 32px;\n",
              "    }\n",
              "\n",
              "    .colab-df-convert:hover {\n",
              "      background-color: #E2EBFA;\n",
              "      box-shadow: 0px 1px 2px rgba(60, 64, 67, 0.3), 0px 1px 3px 1px rgba(60, 64, 67, 0.15);\n",
              "      fill: #174EA6;\n",
              "    }\n",
              "\n",
              "    [theme=dark] .colab-df-convert {\n",
              "      background-color: #3B4455;\n",
              "      fill: #D2E3FC;\n",
              "    }\n",
              "\n",
              "    [theme=dark] .colab-df-convert:hover {\n",
              "      background-color: #434B5C;\n",
              "      box-shadow: 0px 1px 3px 1px rgba(0, 0, 0, 0.15);\n",
              "      filter: drop-shadow(0px 1px 2px rgba(0, 0, 0, 0.3));\n",
              "      fill: #FFFFFF;\n",
              "    }\n",
              "  </style>\n",
              "\n",
              "      <script>\n",
              "        const buttonEl =\n",
              "          document.querySelector('#df-1285cce7-3fea-49f4-b46b-00daa63cd278 button.colab-df-convert');\n",
              "        buttonEl.style.display =\n",
              "          google.colab.kernel.accessAllowed ? 'block' : 'none';\n",
              "\n",
              "        async function convertToInteractive(key) {\n",
              "          const element = document.querySelector('#df-1285cce7-3fea-49f4-b46b-00daa63cd278');\n",
              "          const dataTable =\n",
              "            await google.colab.kernel.invokeFunction('convertToInteractive',\n",
              "                                                     [key], {});\n",
              "          if (!dataTable) return;\n",
              "\n",
              "          const docLinkHtml = 'Like what you see? Visit the ' +\n",
              "            '<a target=\"_blank\" href=https://colab.research.google.com/notebooks/data_table.ipynb>data table notebook</a>'\n",
              "            + ' to learn more about interactive tables.';\n",
              "          element.innerHTML = '';\n",
              "          dataTable['output_type'] = 'display_data';\n",
              "          await google.colab.output.renderOutput(dataTable, element);\n",
              "          const docLink = document.createElement('div');\n",
              "          docLink.innerHTML = docLinkHtml;\n",
              "          element.appendChild(docLink);\n",
              "        }\n",
              "      </script>\n",
              "    </div>\n",
              "  </div>\n",
              "  "
            ]
          },
          "metadata": {},
          "execution_count": 288
        }
      ]
    },
    {
      "cell_type": "markdown",
      "source": [
        "# 2.Train-Test split"
      ],
      "metadata": {
        "id": "eNV2Ck65Sy1Z"
      }
    },
    {
      "cell_type": "code",
      "source": [
        "#Train-Test split\n",
        "from sklearn.model_selection import train_test_split \n",
        "X_train, X_test, y_train, y_test = train_test_split(x,y, test_size = 0.2, random_state =10) #train data=80%\n",
        "\n",
        "#size of train and test dataset\n",
        "print(\"Train dependent data size {} \".format(X_train.shape))\n",
        "print(\"Test dependent data size {} \".format(X_test.shape))\n",
        "print(\"Train independent data size {} \".format(y_train.shape))\n",
        "print(\"Test independent data size {} \".format(y_test.shape))"
      ],
      "metadata": {
        "colab": {
          "base_uri": "https://localhost:8080/"
        },
        "id": "Jw8MVdz2FHNT",
        "outputId": "8fb1ea20-5a01-475b-ddb9-421eff338611"
      },
      "execution_count": null,
      "outputs": [
        {
          "output_type": "stream",
          "name": "stdout",
          "text": [
            "Train dependent data size (1600, 20) \n",
            "Test dependent data size (400, 20) \n",
            "Train independent data size (1600, 1) \n",
            "Test independent data size (400, 1) \n"
          ]
        }
      ]
    },
    {
      "cell_type": "code",
      "source": [
        "#Train dependent dataset\n",
        "X_train.head()"
      ],
      "metadata": {
        "colab": {
          "base_uri": "https://localhost:8080/",
          "height": 270
        },
        "id": "n3-ZTluICFHZ",
        "outputId": "74a32bee-f445-4085-d942-4eb076c70cd8"
      },
      "execution_count": null,
      "outputs": [
        {
          "output_type": "execute_result",
          "data": {
            "text/plain": [
              "      battery_power  blue  clock_speed  dual_sim  fc  four_g  int_memory  \\\n",
              "811             807     0          0.5         0   9       0           8   \n",
              "1631            612     1          0.5         1   1       1          20   \n",
              "337             668     0          2.3         0   2       1          48   \n",
              "1467           1497     1          0.9         1   4       1          10   \n",
              "1561           1076     0          2.3         1   0       1          14   \n",
              "\n",
              "      m_dep  mobile_wt  n_cores  pc  px_height  px_width   ram  sc_h  sc_w  \\\n",
              "811     0.3        158        5  20        667       697  1284    17    13   \n",
              "1631    0.8        179        8   6       1145      1487  3282    16     2   \n",
              "337     0.3        114        1  19        195      1292  1201    14    12   \n",
              "1467    0.1        153        8  20         98       977  3696     9     0   \n",
              "1561    0.7        191        5   0       1088      1718  2355    17    16   \n",
              "\n",
              "      talk_time  three_g  touch_screen  wifi  \n",
              "811           2        0             1     1  \n",
              "1631         18        1             1     1  \n",
              "337           4        1             1     0  \n",
              "1467          3        1             0     1  \n",
              "1561          2        1             1     1  "
            ],
            "text/html": [
              "\n",
              "  <div id=\"df-2e28bb1d-b9ab-42cf-b9d4-d75569e901b6\">\n",
              "    <div class=\"colab-df-container\">\n",
              "      <div>\n",
              "<style scoped>\n",
              "    .dataframe tbody tr th:only-of-type {\n",
              "        vertical-align: middle;\n",
              "    }\n",
              "\n",
              "    .dataframe tbody tr th {\n",
              "        vertical-align: top;\n",
              "    }\n",
              "\n",
              "    .dataframe thead th {\n",
              "        text-align: right;\n",
              "    }\n",
              "</style>\n",
              "<table border=\"1\" class=\"dataframe\">\n",
              "  <thead>\n",
              "    <tr style=\"text-align: right;\">\n",
              "      <th></th>\n",
              "      <th>battery_power</th>\n",
              "      <th>blue</th>\n",
              "      <th>clock_speed</th>\n",
              "      <th>dual_sim</th>\n",
              "      <th>fc</th>\n",
              "      <th>four_g</th>\n",
              "      <th>int_memory</th>\n",
              "      <th>m_dep</th>\n",
              "      <th>mobile_wt</th>\n",
              "      <th>n_cores</th>\n",
              "      <th>pc</th>\n",
              "      <th>px_height</th>\n",
              "      <th>px_width</th>\n",
              "      <th>ram</th>\n",
              "      <th>sc_h</th>\n",
              "      <th>sc_w</th>\n",
              "      <th>talk_time</th>\n",
              "      <th>three_g</th>\n",
              "      <th>touch_screen</th>\n",
              "      <th>wifi</th>\n",
              "    </tr>\n",
              "  </thead>\n",
              "  <tbody>\n",
              "    <tr>\n",
              "      <th>811</th>\n",
              "      <td>807</td>\n",
              "      <td>0</td>\n",
              "      <td>0.5</td>\n",
              "      <td>0</td>\n",
              "      <td>9</td>\n",
              "      <td>0</td>\n",
              "      <td>8</td>\n",
              "      <td>0.3</td>\n",
              "      <td>158</td>\n",
              "      <td>5</td>\n",
              "      <td>20</td>\n",
              "      <td>667</td>\n",
              "      <td>697</td>\n",
              "      <td>1284</td>\n",
              "      <td>17</td>\n",
              "      <td>13</td>\n",
              "      <td>2</td>\n",
              "      <td>0</td>\n",
              "      <td>1</td>\n",
              "      <td>1</td>\n",
              "    </tr>\n",
              "    <tr>\n",
              "      <th>1631</th>\n",
              "      <td>612</td>\n",
              "      <td>1</td>\n",
              "      <td>0.5</td>\n",
              "      <td>1</td>\n",
              "      <td>1</td>\n",
              "      <td>1</td>\n",
              "      <td>20</td>\n",
              "      <td>0.8</td>\n",
              "      <td>179</td>\n",
              "      <td>8</td>\n",
              "      <td>6</td>\n",
              "      <td>1145</td>\n",
              "      <td>1487</td>\n",
              "      <td>3282</td>\n",
              "      <td>16</td>\n",
              "      <td>2</td>\n",
              "      <td>18</td>\n",
              "      <td>1</td>\n",
              "      <td>1</td>\n",
              "      <td>1</td>\n",
              "    </tr>\n",
              "    <tr>\n",
              "      <th>337</th>\n",
              "      <td>668</td>\n",
              "      <td>0</td>\n",
              "      <td>2.3</td>\n",
              "      <td>0</td>\n",
              "      <td>2</td>\n",
              "      <td>1</td>\n",
              "      <td>48</td>\n",
              "      <td>0.3</td>\n",
              "      <td>114</td>\n",
              "      <td>1</td>\n",
              "      <td>19</td>\n",
              "      <td>195</td>\n",
              "      <td>1292</td>\n",
              "      <td>1201</td>\n",
              "      <td>14</td>\n",
              "      <td>12</td>\n",
              "      <td>4</td>\n",
              "      <td>1</td>\n",
              "      <td>1</td>\n",
              "      <td>0</td>\n",
              "    </tr>\n",
              "    <tr>\n",
              "      <th>1467</th>\n",
              "      <td>1497</td>\n",
              "      <td>1</td>\n",
              "      <td>0.9</td>\n",
              "      <td>1</td>\n",
              "      <td>4</td>\n",
              "      <td>1</td>\n",
              "      <td>10</td>\n",
              "      <td>0.1</td>\n",
              "      <td>153</td>\n",
              "      <td>8</td>\n",
              "      <td>20</td>\n",
              "      <td>98</td>\n",
              "      <td>977</td>\n",
              "      <td>3696</td>\n",
              "      <td>9</td>\n",
              "      <td>0</td>\n",
              "      <td>3</td>\n",
              "      <td>1</td>\n",
              "      <td>0</td>\n",
              "      <td>1</td>\n",
              "    </tr>\n",
              "    <tr>\n",
              "      <th>1561</th>\n",
              "      <td>1076</td>\n",
              "      <td>0</td>\n",
              "      <td>2.3</td>\n",
              "      <td>1</td>\n",
              "      <td>0</td>\n",
              "      <td>1</td>\n",
              "      <td>14</td>\n",
              "      <td>0.7</td>\n",
              "      <td>191</td>\n",
              "      <td>5</td>\n",
              "      <td>0</td>\n",
              "      <td>1088</td>\n",
              "      <td>1718</td>\n",
              "      <td>2355</td>\n",
              "      <td>17</td>\n",
              "      <td>16</td>\n",
              "      <td>2</td>\n",
              "      <td>1</td>\n",
              "      <td>1</td>\n",
              "      <td>1</td>\n",
              "    </tr>\n",
              "  </tbody>\n",
              "</table>\n",
              "</div>\n",
              "      <button class=\"colab-df-convert\" onclick=\"convertToInteractive('df-2e28bb1d-b9ab-42cf-b9d4-d75569e901b6')\"\n",
              "              title=\"Convert this dataframe to an interactive table.\"\n",
              "              style=\"display:none;\">\n",
              "        \n",
              "  <svg xmlns=\"http://www.w3.org/2000/svg\" height=\"24px\"viewBox=\"0 0 24 24\"\n",
              "       width=\"24px\">\n",
              "    <path d=\"M0 0h24v24H0V0z\" fill=\"none\"/>\n",
              "    <path d=\"M18.56 5.44l.94 2.06.94-2.06 2.06-.94-2.06-.94-.94-2.06-.94 2.06-2.06.94zm-11 1L8.5 8.5l.94-2.06 2.06-.94-2.06-.94L8.5 2.5l-.94 2.06-2.06.94zm10 10l.94 2.06.94-2.06 2.06-.94-2.06-.94-.94-2.06-.94 2.06-2.06.94z\"/><path d=\"M17.41 7.96l-1.37-1.37c-.4-.4-.92-.59-1.43-.59-.52 0-1.04.2-1.43.59L10.3 9.45l-7.72 7.72c-.78.78-.78 2.05 0 2.83L4 21.41c.39.39.9.59 1.41.59.51 0 1.02-.2 1.41-.59l7.78-7.78 2.81-2.81c.8-.78.8-2.07 0-2.86zM5.41 20L4 18.59l7.72-7.72 1.47 1.35L5.41 20z\"/>\n",
              "  </svg>\n",
              "      </button>\n",
              "      \n",
              "  <style>\n",
              "    .colab-df-container {\n",
              "      display:flex;\n",
              "      flex-wrap:wrap;\n",
              "      gap: 12px;\n",
              "    }\n",
              "\n",
              "    .colab-df-convert {\n",
              "      background-color: #E8F0FE;\n",
              "      border: none;\n",
              "      border-radius: 50%;\n",
              "      cursor: pointer;\n",
              "      display: none;\n",
              "      fill: #1967D2;\n",
              "      height: 32px;\n",
              "      padding: 0 0 0 0;\n",
              "      width: 32px;\n",
              "    }\n",
              "\n",
              "    .colab-df-convert:hover {\n",
              "      background-color: #E2EBFA;\n",
              "      box-shadow: 0px 1px 2px rgba(60, 64, 67, 0.3), 0px 1px 3px 1px rgba(60, 64, 67, 0.15);\n",
              "      fill: #174EA6;\n",
              "    }\n",
              "\n",
              "    [theme=dark] .colab-df-convert {\n",
              "      background-color: #3B4455;\n",
              "      fill: #D2E3FC;\n",
              "    }\n",
              "\n",
              "    [theme=dark] .colab-df-convert:hover {\n",
              "      background-color: #434B5C;\n",
              "      box-shadow: 0px 1px 3px 1px rgba(0, 0, 0, 0.15);\n",
              "      filter: drop-shadow(0px 1px 2px rgba(0, 0, 0, 0.3));\n",
              "      fill: #FFFFFF;\n",
              "    }\n",
              "  </style>\n",
              "\n",
              "      <script>\n",
              "        const buttonEl =\n",
              "          document.querySelector('#df-2e28bb1d-b9ab-42cf-b9d4-d75569e901b6 button.colab-df-convert');\n",
              "        buttonEl.style.display =\n",
              "          google.colab.kernel.accessAllowed ? 'block' : 'none';\n",
              "\n",
              "        async function convertToInteractive(key) {\n",
              "          const element = document.querySelector('#df-2e28bb1d-b9ab-42cf-b9d4-d75569e901b6');\n",
              "          const dataTable =\n",
              "            await google.colab.kernel.invokeFunction('convertToInteractive',\n",
              "                                                     [key], {});\n",
              "          if (!dataTable) return;\n",
              "\n",
              "          const docLinkHtml = 'Like what you see? Visit the ' +\n",
              "            '<a target=\"_blank\" href=https://colab.research.google.com/notebooks/data_table.ipynb>data table notebook</a>'\n",
              "            + ' to learn more about interactive tables.';\n",
              "          element.innerHTML = '';\n",
              "          dataTable['output_type'] = 'display_data';\n",
              "          await google.colab.output.renderOutput(dataTable, element);\n",
              "          const docLink = document.createElement('div');\n",
              "          docLink.innerHTML = docLinkHtml;\n",
              "          element.appendChild(docLink);\n",
              "        }\n",
              "      </script>\n",
              "    </div>\n",
              "  </div>\n",
              "  "
            ]
          },
          "metadata": {},
          "execution_count": 290
        }
      ]
    },
    {
      "cell_type": "code",
      "source": [
        "#Test dependent data size\n",
        "X_test.head()"
      ],
      "metadata": {
        "colab": {
          "base_uri": "https://localhost:8080/",
          "height": 270
        },
        "id": "7n9IYjRHCNbN",
        "outputId": "eacf1583-007c-46f8-f60e-c400264163d3"
      },
      "execution_count": null,
      "outputs": [
        {
          "output_type": "execute_result",
          "data": {
            "text/plain": [
              "      battery_power  blue  clock_speed  dual_sim  fc  four_g  int_memory  \\\n",
              "115            1900     1          2.3         0   1       1          18   \n",
              "1779           1807     1          2.9         0   0       0          16   \n",
              "1449            602     0          0.9         0   9       0          50   \n",
              "145            1814     0          1.4         1   1       1           9   \n",
              "1009           1881     0          2.2         0   4       0          51   \n",
              "\n",
              "      m_dep  mobile_wt  n_cores  pc  px_height  px_width   ram  sc_h  sc_w  \\\n",
              "115     0.2         89        7   9       1055      1661  2871    12     1   \n",
              "1779    0.2        125        3   0       1221      1415  2921     8     5   \n",
              "1449    0.9        141        8  18       1571      1717  2189     7     5   \n",
              "145     0.4        141        2   2        756       786  3556    18    12   \n",
              "1009    0.3        158        5   7        477      1553  1229    12     0   \n",
              "\n",
              "      talk_time  three_g  touch_screen  wifi  \n",
              "115          13        1             1     1  \n",
              "1779         17        0             1     0  \n",
              "1449         16        0             1     0  \n",
              "145          16        1             0     0  \n",
              "1009         14        1             0     0  "
            ],
            "text/html": [
              "\n",
              "  <div id=\"df-4e0fbec0-7736-4cfc-81fa-283b22554215\">\n",
              "    <div class=\"colab-df-container\">\n",
              "      <div>\n",
              "<style scoped>\n",
              "    .dataframe tbody tr th:only-of-type {\n",
              "        vertical-align: middle;\n",
              "    }\n",
              "\n",
              "    .dataframe tbody tr th {\n",
              "        vertical-align: top;\n",
              "    }\n",
              "\n",
              "    .dataframe thead th {\n",
              "        text-align: right;\n",
              "    }\n",
              "</style>\n",
              "<table border=\"1\" class=\"dataframe\">\n",
              "  <thead>\n",
              "    <tr style=\"text-align: right;\">\n",
              "      <th></th>\n",
              "      <th>battery_power</th>\n",
              "      <th>blue</th>\n",
              "      <th>clock_speed</th>\n",
              "      <th>dual_sim</th>\n",
              "      <th>fc</th>\n",
              "      <th>four_g</th>\n",
              "      <th>int_memory</th>\n",
              "      <th>m_dep</th>\n",
              "      <th>mobile_wt</th>\n",
              "      <th>n_cores</th>\n",
              "      <th>pc</th>\n",
              "      <th>px_height</th>\n",
              "      <th>px_width</th>\n",
              "      <th>ram</th>\n",
              "      <th>sc_h</th>\n",
              "      <th>sc_w</th>\n",
              "      <th>talk_time</th>\n",
              "      <th>three_g</th>\n",
              "      <th>touch_screen</th>\n",
              "      <th>wifi</th>\n",
              "    </tr>\n",
              "  </thead>\n",
              "  <tbody>\n",
              "    <tr>\n",
              "      <th>115</th>\n",
              "      <td>1900</td>\n",
              "      <td>1</td>\n",
              "      <td>2.3</td>\n",
              "      <td>0</td>\n",
              "      <td>1</td>\n",
              "      <td>1</td>\n",
              "      <td>18</td>\n",
              "      <td>0.2</td>\n",
              "      <td>89</td>\n",
              "      <td>7</td>\n",
              "      <td>9</td>\n",
              "      <td>1055</td>\n",
              "      <td>1661</td>\n",
              "      <td>2871</td>\n",
              "      <td>12</td>\n",
              "      <td>1</td>\n",
              "      <td>13</td>\n",
              "      <td>1</td>\n",
              "      <td>1</td>\n",
              "      <td>1</td>\n",
              "    </tr>\n",
              "    <tr>\n",
              "      <th>1779</th>\n",
              "      <td>1807</td>\n",
              "      <td>1</td>\n",
              "      <td>2.9</td>\n",
              "      <td>0</td>\n",
              "      <td>0</td>\n",
              "      <td>0</td>\n",
              "      <td>16</td>\n",
              "      <td>0.2</td>\n",
              "      <td>125</td>\n",
              "      <td>3</td>\n",
              "      <td>0</td>\n",
              "      <td>1221</td>\n",
              "      <td>1415</td>\n",
              "      <td>2921</td>\n",
              "      <td>8</td>\n",
              "      <td>5</td>\n",
              "      <td>17</td>\n",
              "      <td>0</td>\n",
              "      <td>1</td>\n",
              "      <td>0</td>\n",
              "    </tr>\n",
              "    <tr>\n",
              "      <th>1449</th>\n",
              "      <td>602</td>\n",
              "      <td>0</td>\n",
              "      <td>0.9</td>\n",
              "      <td>0</td>\n",
              "      <td>9</td>\n",
              "      <td>0</td>\n",
              "      <td>50</td>\n",
              "      <td>0.9</td>\n",
              "      <td>141</td>\n",
              "      <td>8</td>\n",
              "      <td>18</td>\n",
              "      <td>1571</td>\n",
              "      <td>1717</td>\n",
              "      <td>2189</td>\n",
              "      <td>7</td>\n",
              "      <td>5</td>\n",
              "      <td>16</td>\n",
              "      <td>0</td>\n",
              "      <td>1</td>\n",
              "      <td>0</td>\n",
              "    </tr>\n",
              "    <tr>\n",
              "      <th>145</th>\n",
              "      <td>1814</td>\n",
              "      <td>0</td>\n",
              "      <td>1.4</td>\n",
              "      <td>1</td>\n",
              "      <td>1</td>\n",
              "      <td>1</td>\n",
              "      <td>9</td>\n",
              "      <td>0.4</td>\n",
              "      <td>141</td>\n",
              "      <td>2</td>\n",
              "      <td>2</td>\n",
              "      <td>756</td>\n",
              "      <td>786</td>\n",
              "      <td>3556</td>\n",
              "      <td>18</td>\n",
              "      <td>12</td>\n",
              "      <td>16</td>\n",
              "      <td>1</td>\n",
              "      <td>0</td>\n",
              "      <td>0</td>\n",
              "    </tr>\n",
              "    <tr>\n",
              "      <th>1009</th>\n",
              "      <td>1881</td>\n",
              "      <td>0</td>\n",
              "      <td>2.2</td>\n",
              "      <td>0</td>\n",
              "      <td>4</td>\n",
              "      <td>0</td>\n",
              "      <td>51</td>\n",
              "      <td>0.3</td>\n",
              "      <td>158</td>\n",
              "      <td>5</td>\n",
              "      <td>7</td>\n",
              "      <td>477</td>\n",
              "      <td>1553</td>\n",
              "      <td>1229</td>\n",
              "      <td>12</td>\n",
              "      <td>0</td>\n",
              "      <td>14</td>\n",
              "      <td>1</td>\n",
              "      <td>0</td>\n",
              "      <td>0</td>\n",
              "    </tr>\n",
              "  </tbody>\n",
              "</table>\n",
              "</div>\n",
              "      <button class=\"colab-df-convert\" onclick=\"convertToInteractive('df-4e0fbec0-7736-4cfc-81fa-283b22554215')\"\n",
              "              title=\"Convert this dataframe to an interactive table.\"\n",
              "              style=\"display:none;\">\n",
              "        \n",
              "  <svg xmlns=\"http://www.w3.org/2000/svg\" height=\"24px\"viewBox=\"0 0 24 24\"\n",
              "       width=\"24px\">\n",
              "    <path d=\"M0 0h24v24H0V0z\" fill=\"none\"/>\n",
              "    <path d=\"M18.56 5.44l.94 2.06.94-2.06 2.06-.94-2.06-.94-.94-2.06-.94 2.06-2.06.94zm-11 1L8.5 8.5l.94-2.06 2.06-.94-2.06-.94L8.5 2.5l-.94 2.06-2.06.94zm10 10l.94 2.06.94-2.06 2.06-.94-2.06-.94-.94-2.06-.94 2.06-2.06.94z\"/><path d=\"M17.41 7.96l-1.37-1.37c-.4-.4-.92-.59-1.43-.59-.52 0-1.04.2-1.43.59L10.3 9.45l-7.72 7.72c-.78.78-.78 2.05 0 2.83L4 21.41c.39.39.9.59 1.41.59.51 0 1.02-.2 1.41-.59l7.78-7.78 2.81-2.81c.8-.78.8-2.07 0-2.86zM5.41 20L4 18.59l7.72-7.72 1.47 1.35L5.41 20z\"/>\n",
              "  </svg>\n",
              "      </button>\n",
              "      \n",
              "  <style>\n",
              "    .colab-df-container {\n",
              "      display:flex;\n",
              "      flex-wrap:wrap;\n",
              "      gap: 12px;\n",
              "    }\n",
              "\n",
              "    .colab-df-convert {\n",
              "      background-color: #E8F0FE;\n",
              "      border: none;\n",
              "      border-radius: 50%;\n",
              "      cursor: pointer;\n",
              "      display: none;\n",
              "      fill: #1967D2;\n",
              "      height: 32px;\n",
              "      padding: 0 0 0 0;\n",
              "      width: 32px;\n",
              "    }\n",
              "\n",
              "    .colab-df-convert:hover {\n",
              "      background-color: #E2EBFA;\n",
              "      box-shadow: 0px 1px 2px rgba(60, 64, 67, 0.3), 0px 1px 3px 1px rgba(60, 64, 67, 0.15);\n",
              "      fill: #174EA6;\n",
              "    }\n",
              "\n",
              "    [theme=dark] .colab-df-convert {\n",
              "      background-color: #3B4455;\n",
              "      fill: #D2E3FC;\n",
              "    }\n",
              "\n",
              "    [theme=dark] .colab-df-convert:hover {\n",
              "      background-color: #434B5C;\n",
              "      box-shadow: 0px 1px 3px 1px rgba(0, 0, 0, 0.15);\n",
              "      filter: drop-shadow(0px 1px 2px rgba(0, 0, 0, 0.3));\n",
              "      fill: #FFFFFF;\n",
              "    }\n",
              "  </style>\n",
              "\n",
              "      <script>\n",
              "        const buttonEl =\n",
              "          document.querySelector('#df-4e0fbec0-7736-4cfc-81fa-283b22554215 button.colab-df-convert');\n",
              "        buttonEl.style.display =\n",
              "          google.colab.kernel.accessAllowed ? 'block' : 'none';\n",
              "\n",
              "        async function convertToInteractive(key) {\n",
              "          const element = document.querySelector('#df-4e0fbec0-7736-4cfc-81fa-283b22554215');\n",
              "          const dataTable =\n",
              "            await google.colab.kernel.invokeFunction('convertToInteractive',\n",
              "                                                     [key], {});\n",
              "          if (!dataTable) return;\n",
              "\n",
              "          const docLinkHtml = 'Like what you see? Visit the ' +\n",
              "            '<a target=\"_blank\" href=https://colab.research.google.com/notebooks/data_table.ipynb>data table notebook</a>'\n",
              "            + ' to learn more about interactive tables.';\n",
              "          element.innerHTML = '';\n",
              "          dataTable['output_type'] = 'display_data';\n",
              "          await google.colab.output.renderOutput(dataTable, element);\n",
              "          const docLink = document.createElement('div');\n",
              "          docLink.innerHTML = docLinkHtml;\n",
              "          element.appendChild(docLink);\n",
              "        }\n",
              "      </script>\n",
              "    </div>\n",
              "  </div>\n",
              "  "
            ]
          },
          "metadata": {},
          "execution_count": 291
        }
      ]
    },
    {
      "cell_type": "code",
      "source": [
        "#Train independent data size\n",
        "y_train.head()"
      ],
      "metadata": {
        "colab": {
          "base_uri": "https://localhost:8080/",
          "height": 206
        },
        "id": "NC5O7bTCIhJW",
        "outputId": "a65b8c8d-7229-4d09-b8ed-e05ca74e1565"
      },
      "execution_count": null,
      "outputs": [
        {
          "output_type": "execute_result",
          "data": {
            "text/plain": [
              "      price_range\n",
              "811             0\n",
              "1631            3\n",
              "337             0\n",
              "1467            3\n",
              "1561            2"
            ],
            "text/html": [
              "\n",
              "  <div id=\"df-d94becdb-0e55-4909-a716-4c5f25169a09\">\n",
              "    <div class=\"colab-df-container\">\n",
              "      <div>\n",
              "<style scoped>\n",
              "    .dataframe tbody tr th:only-of-type {\n",
              "        vertical-align: middle;\n",
              "    }\n",
              "\n",
              "    .dataframe tbody tr th {\n",
              "        vertical-align: top;\n",
              "    }\n",
              "\n",
              "    .dataframe thead th {\n",
              "        text-align: right;\n",
              "    }\n",
              "</style>\n",
              "<table border=\"1\" class=\"dataframe\">\n",
              "  <thead>\n",
              "    <tr style=\"text-align: right;\">\n",
              "      <th></th>\n",
              "      <th>price_range</th>\n",
              "    </tr>\n",
              "  </thead>\n",
              "  <tbody>\n",
              "    <tr>\n",
              "      <th>811</th>\n",
              "      <td>0</td>\n",
              "    </tr>\n",
              "    <tr>\n",
              "      <th>1631</th>\n",
              "      <td>3</td>\n",
              "    </tr>\n",
              "    <tr>\n",
              "      <th>337</th>\n",
              "      <td>0</td>\n",
              "    </tr>\n",
              "    <tr>\n",
              "      <th>1467</th>\n",
              "      <td>3</td>\n",
              "    </tr>\n",
              "    <tr>\n",
              "      <th>1561</th>\n",
              "      <td>2</td>\n",
              "    </tr>\n",
              "  </tbody>\n",
              "</table>\n",
              "</div>\n",
              "      <button class=\"colab-df-convert\" onclick=\"convertToInteractive('df-d94becdb-0e55-4909-a716-4c5f25169a09')\"\n",
              "              title=\"Convert this dataframe to an interactive table.\"\n",
              "              style=\"display:none;\">\n",
              "        \n",
              "  <svg xmlns=\"http://www.w3.org/2000/svg\" height=\"24px\"viewBox=\"0 0 24 24\"\n",
              "       width=\"24px\">\n",
              "    <path d=\"M0 0h24v24H0V0z\" fill=\"none\"/>\n",
              "    <path d=\"M18.56 5.44l.94 2.06.94-2.06 2.06-.94-2.06-.94-.94-2.06-.94 2.06-2.06.94zm-11 1L8.5 8.5l.94-2.06 2.06-.94-2.06-.94L8.5 2.5l-.94 2.06-2.06.94zm10 10l.94 2.06.94-2.06 2.06-.94-2.06-.94-.94-2.06-.94 2.06-2.06.94z\"/><path d=\"M17.41 7.96l-1.37-1.37c-.4-.4-.92-.59-1.43-.59-.52 0-1.04.2-1.43.59L10.3 9.45l-7.72 7.72c-.78.78-.78 2.05 0 2.83L4 21.41c.39.39.9.59 1.41.59.51 0 1.02-.2 1.41-.59l7.78-7.78 2.81-2.81c.8-.78.8-2.07 0-2.86zM5.41 20L4 18.59l7.72-7.72 1.47 1.35L5.41 20z\"/>\n",
              "  </svg>\n",
              "      </button>\n",
              "      \n",
              "  <style>\n",
              "    .colab-df-container {\n",
              "      display:flex;\n",
              "      flex-wrap:wrap;\n",
              "      gap: 12px;\n",
              "    }\n",
              "\n",
              "    .colab-df-convert {\n",
              "      background-color: #E8F0FE;\n",
              "      border: none;\n",
              "      border-radius: 50%;\n",
              "      cursor: pointer;\n",
              "      display: none;\n",
              "      fill: #1967D2;\n",
              "      height: 32px;\n",
              "      padding: 0 0 0 0;\n",
              "      width: 32px;\n",
              "    }\n",
              "\n",
              "    .colab-df-convert:hover {\n",
              "      background-color: #E2EBFA;\n",
              "      box-shadow: 0px 1px 2px rgba(60, 64, 67, 0.3), 0px 1px 3px 1px rgba(60, 64, 67, 0.15);\n",
              "      fill: #174EA6;\n",
              "    }\n",
              "\n",
              "    [theme=dark] .colab-df-convert {\n",
              "      background-color: #3B4455;\n",
              "      fill: #D2E3FC;\n",
              "    }\n",
              "\n",
              "    [theme=dark] .colab-df-convert:hover {\n",
              "      background-color: #434B5C;\n",
              "      box-shadow: 0px 1px 3px 1px rgba(0, 0, 0, 0.15);\n",
              "      filter: drop-shadow(0px 1px 2px rgba(0, 0, 0, 0.3));\n",
              "      fill: #FFFFFF;\n",
              "    }\n",
              "  </style>\n",
              "\n",
              "      <script>\n",
              "        const buttonEl =\n",
              "          document.querySelector('#df-d94becdb-0e55-4909-a716-4c5f25169a09 button.colab-df-convert');\n",
              "        buttonEl.style.display =\n",
              "          google.colab.kernel.accessAllowed ? 'block' : 'none';\n",
              "\n",
              "        async function convertToInteractive(key) {\n",
              "          const element = document.querySelector('#df-d94becdb-0e55-4909-a716-4c5f25169a09');\n",
              "          const dataTable =\n",
              "            await google.colab.kernel.invokeFunction('convertToInteractive',\n",
              "                                                     [key], {});\n",
              "          if (!dataTable) return;\n",
              "\n",
              "          const docLinkHtml = 'Like what you see? Visit the ' +\n",
              "            '<a target=\"_blank\" href=https://colab.research.google.com/notebooks/data_table.ipynb>data table notebook</a>'\n",
              "            + ' to learn more about interactive tables.';\n",
              "          element.innerHTML = '';\n",
              "          dataTable['output_type'] = 'display_data';\n",
              "          await google.colab.output.renderOutput(dataTable, element);\n",
              "          const docLink = document.createElement('div');\n",
              "          docLink.innerHTML = docLinkHtml;\n",
              "          element.appendChild(docLink);\n",
              "        }\n",
              "      </script>\n",
              "    </div>\n",
              "  </div>\n",
              "  "
            ]
          },
          "metadata": {},
          "execution_count": 292
        }
      ]
    },
    {
      "cell_type": "code",
      "source": [
        "#Test independent data size\n",
        "y_test.head()"
      ],
      "metadata": {
        "colab": {
          "base_uri": "https://localhost:8080/",
          "height": 206
        },
        "id": "C6fQloy7Ww2g",
        "outputId": "89150c90-8c1d-420b-d737-6b3ff4068418"
      },
      "execution_count": null,
      "outputs": [
        {
          "output_type": "execute_result",
          "data": {
            "text/plain": [
              "      price_range\n",
              "115             3\n",
              "1779            3\n",
              "1449            2\n",
              "145             3\n",
              "1009            1"
            ],
            "text/html": [
              "\n",
              "  <div id=\"df-20c99577-84ce-440a-93b8-447af809e309\">\n",
              "    <div class=\"colab-df-container\">\n",
              "      <div>\n",
              "<style scoped>\n",
              "    .dataframe tbody tr th:only-of-type {\n",
              "        vertical-align: middle;\n",
              "    }\n",
              "\n",
              "    .dataframe tbody tr th {\n",
              "        vertical-align: top;\n",
              "    }\n",
              "\n",
              "    .dataframe thead th {\n",
              "        text-align: right;\n",
              "    }\n",
              "</style>\n",
              "<table border=\"1\" class=\"dataframe\">\n",
              "  <thead>\n",
              "    <tr style=\"text-align: right;\">\n",
              "      <th></th>\n",
              "      <th>price_range</th>\n",
              "    </tr>\n",
              "  </thead>\n",
              "  <tbody>\n",
              "    <tr>\n",
              "      <th>115</th>\n",
              "      <td>3</td>\n",
              "    </tr>\n",
              "    <tr>\n",
              "      <th>1779</th>\n",
              "      <td>3</td>\n",
              "    </tr>\n",
              "    <tr>\n",
              "      <th>1449</th>\n",
              "      <td>2</td>\n",
              "    </tr>\n",
              "    <tr>\n",
              "      <th>145</th>\n",
              "      <td>3</td>\n",
              "    </tr>\n",
              "    <tr>\n",
              "      <th>1009</th>\n",
              "      <td>1</td>\n",
              "    </tr>\n",
              "  </tbody>\n",
              "</table>\n",
              "</div>\n",
              "      <button class=\"colab-df-convert\" onclick=\"convertToInteractive('df-20c99577-84ce-440a-93b8-447af809e309')\"\n",
              "              title=\"Convert this dataframe to an interactive table.\"\n",
              "              style=\"display:none;\">\n",
              "        \n",
              "  <svg xmlns=\"http://www.w3.org/2000/svg\" height=\"24px\"viewBox=\"0 0 24 24\"\n",
              "       width=\"24px\">\n",
              "    <path d=\"M0 0h24v24H0V0z\" fill=\"none\"/>\n",
              "    <path d=\"M18.56 5.44l.94 2.06.94-2.06 2.06-.94-2.06-.94-.94-2.06-.94 2.06-2.06.94zm-11 1L8.5 8.5l.94-2.06 2.06-.94-2.06-.94L8.5 2.5l-.94 2.06-2.06.94zm10 10l.94 2.06.94-2.06 2.06-.94-2.06-.94-.94-2.06-.94 2.06-2.06.94z\"/><path d=\"M17.41 7.96l-1.37-1.37c-.4-.4-.92-.59-1.43-.59-.52 0-1.04.2-1.43.59L10.3 9.45l-7.72 7.72c-.78.78-.78 2.05 0 2.83L4 21.41c.39.39.9.59 1.41.59.51 0 1.02-.2 1.41-.59l7.78-7.78 2.81-2.81c.8-.78.8-2.07 0-2.86zM5.41 20L4 18.59l7.72-7.72 1.47 1.35L5.41 20z\"/>\n",
              "  </svg>\n",
              "      </button>\n",
              "      \n",
              "  <style>\n",
              "    .colab-df-container {\n",
              "      display:flex;\n",
              "      flex-wrap:wrap;\n",
              "      gap: 12px;\n",
              "    }\n",
              "\n",
              "    .colab-df-convert {\n",
              "      background-color: #E8F0FE;\n",
              "      border: none;\n",
              "      border-radius: 50%;\n",
              "      cursor: pointer;\n",
              "      display: none;\n",
              "      fill: #1967D2;\n",
              "      height: 32px;\n",
              "      padding: 0 0 0 0;\n",
              "      width: 32px;\n",
              "    }\n",
              "\n",
              "    .colab-df-convert:hover {\n",
              "      background-color: #E2EBFA;\n",
              "      box-shadow: 0px 1px 2px rgba(60, 64, 67, 0.3), 0px 1px 3px 1px rgba(60, 64, 67, 0.15);\n",
              "      fill: #174EA6;\n",
              "    }\n",
              "\n",
              "    [theme=dark] .colab-df-convert {\n",
              "      background-color: #3B4455;\n",
              "      fill: #D2E3FC;\n",
              "    }\n",
              "\n",
              "    [theme=dark] .colab-df-convert:hover {\n",
              "      background-color: #434B5C;\n",
              "      box-shadow: 0px 1px 3px 1px rgba(0, 0, 0, 0.15);\n",
              "      filter: drop-shadow(0px 1px 2px rgba(0, 0, 0, 0.3));\n",
              "      fill: #FFFFFF;\n",
              "    }\n",
              "  </style>\n",
              "\n",
              "      <script>\n",
              "        const buttonEl =\n",
              "          document.querySelector('#df-20c99577-84ce-440a-93b8-447af809e309 button.colab-df-convert');\n",
              "        buttonEl.style.display =\n",
              "          google.colab.kernel.accessAllowed ? 'block' : 'none';\n",
              "\n",
              "        async function convertToInteractive(key) {\n",
              "          const element = document.querySelector('#df-20c99577-84ce-440a-93b8-447af809e309');\n",
              "          const dataTable =\n",
              "            await google.colab.kernel.invokeFunction('convertToInteractive',\n",
              "                                                     [key], {});\n",
              "          if (!dataTable) return;\n",
              "\n",
              "          const docLinkHtml = 'Like what you see? Visit the ' +\n",
              "            '<a target=\"_blank\" href=https://colab.research.google.com/notebooks/data_table.ipynb>data table notebook</a>'\n",
              "            + ' to learn more about interactive tables.';\n",
              "          element.innerHTML = '';\n",
              "          dataTable['output_type'] = 'display_data';\n",
              "          await google.colab.output.renderOutput(dataTable, element);\n",
              "          const docLink = document.createElement('div');\n",
              "          docLink.innerHTML = docLinkHtml;\n",
              "          element.appendChild(docLink);\n",
              "        }\n",
              "      </script>\n",
              "    </div>\n",
              "  </div>\n",
              "  "
            ]
          },
          "metadata": {},
          "execution_count": 293
        }
      ]
    },
    {
      "cell_type": "markdown",
      "source": [
        "# 3.Feature Scaling"
      ],
      "metadata": {
        "id": "jpDWtsDITdoa"
      }
    },
    {
      "cell_type": "code",
      "source": [
        "#Scale all values in dataframe by StandardScaler \n",
        "from sklearn.preprocessing import StandardScaler\n",
        "\n",
        "scaler=StandardScaler()\n",
        "\n",
        "#fit train data\n",
        "scaler.fit(X_train)\n",
        "\n",
        "#transform train and test data\n",
        "X_train_scale=scaler.transform(X_train)\n",
        "X_test_scale=scaler.transform(X_test)\n",
        "\n",
        "\n",
        "#Scaled value array coverted into dataframe\n",
        "X_train_scale=pd.DataFrame(X_train_scale,columns=X_train.columns)\n",
        "X_test_scale=pd.DataFrame(X_test_scale,columns=X_test.columns)"
      ],
      "metadata": {
        "id": "o8JMWi3rTpWz"
      },
      "execution_count": null,
      "outputs": []
    },
    {
      "cell_type": "markdown",
      "source": [
        "# 4.Classification"
      ],
      "metadata": {
        "id": "MuZa7WrAkyrg"
      }
    },
    {
      "cell_type": "markdown",
      "source": [
        "#**XGBoostClassifier**"
      ],
      "metadata": {
        "id": "g6UavHRciL5g"
      }
    },
    {
      "cell_type": "code",
      "source": [
        "#import classification algorithm\n",
        "from xgboost import XGBClassifier"
      ],
      "metadata": {
        "id": "DCxNJE7Hoqho"
      },
      "execution_count": null,
      "outputs": []
    },
    {
      "cell_type": "markdown",
      "source": [
        "# 1.Built a model with default parameters"
      ],
      "metadata": {
        "id": "RK09tIJ2l82S"
      }
    },
    {
      "cell_type": "code",
      "source": [
        "#model number 1\n",
        "xgb=XGBClassifier()\n",
        "xgb.fit(X_train_scale,y_train)"
      ],
      "metadata": {
        "colab": {
          "base_uri": "https://localhost:8080/"
        },
        "id": "N_HKj9gblN5s",
        "outputId": "40fbf04d-a242-4440-abe9-8fc11237c224"
      },
      "execution_count": null,
      "outputs": [
        {
          "output_type": "execute_result",
          "data": {
            "text/plain": [
              "XGBClassifier(objective='multi:softprob')"
            ]
          },
          "metadata": {},
          "execution_count": 296
        }
      ]
    },
    {
      "cell_type": "code",
      "source": [
        "#To find accuracy of train data\n",
        "train_acc=xgb.score(X_train_scale, y_train)*100    \n",
        "print(\"Train accuracy= {} \".format(train_acc))"
      ],
      "metadata": {
        "colab": {
          "base_uri": "https://localhost:8080/"
        },
        "id": "nTMnT2OlloWo",
        "outputId": "c75e70e7-79d8-4828-aaf2-92c789c5bc6f"
      },
      "execution_count": null,
      "outputs": [
        {
          "output_type": "stream",
          "name": "stdout",
          "text": [
            "Train accuracy= 98.75 \n"
          ]
        }
      ]
    },
    {
      "cell_type": "code",
      "source": [
        "#To find accuracy of train data\n",
        "test_acc=xgb.score(X_test_scale,y_test)*100    \n",
        "print(\"Test accuracy= {} \".format(test_acc))"
      ],
      "metadata": {
        "colab": {
          "base_uri": "https://localhost:8080/"
        },
        "id": "4c4SWmKXluyk",
        "outputId": "ca8be9b8-2800-40f9-8ac7-c9c37b29e781"
      },
      "execution_count": null,
      "outputs": [
        {
          "output_type": "stream",
          "name": "stdout",
          "text": [
            "Test accuracy= 91.25 \n"
          ]
        }
      ]
    },
    {
      "cell_type": "markdown",
      "source": [
        "# 2.Dimensionality reduction by embedded method (feature importance by XGBoost) "
      ],
      "metadata": {
        "id": "53laKih2mHKu"
      }
    },
    {
      "cell_type": "code",
      "source": [
        "#get important features by XGBoost\n",
        "imp=xgb.feature_importances_\n",
        "\n",
        "#select thoes features which are create high impact on output prediction\n",
        "imp_fea=pd.DataFrame(imp)\n",
        "imp_fea[\"Features\"]=X_train_scale.columns\n",
        "imp_fea=imp_fea[imp_fea[0]>0.02]\n",
        "imp_fea"
      ],
      "metadata": {
        "colab": {
          "base_uri": "https://localhost:8080/",
          "height": 363
        },
        "id": "Vg9v5jPBXH5f",
        "outputId": "03e8e4f6-3d6b-4105-9c4f-a534f0795158"
      },
      "execution_count": null,
      "outputs": [
        {
          "output_type": "execute_result",
          "data": {
            "text/plain": [
              "           0       Features\n",
              "0   0.123751  battery_power\n",
              "4   0.021556             fc\n",
              "6   0.029379     int_memory\n",
              "7   0.026566          m_dep\n",
              "8   0.041214      mobile_wt\n",
              "9   0.023947        n_cores\n",
              "11  0.102883      px_height\n",
              "12  0.075439       px_width\n",
              "13  0.415047            ram\n",
              "15  0.022757           sc_w"
            ],
            "text/html": [
              "\n",
              "  <div id=\"df-4f9158e5-eebc-474a-a028-4c46fee6b255\">\n",
              "    <div class=\"colab-df-container\">\n",
              "      <div>\n",
              "<style scoped>\n",
              "    .dataframe tbody tr th:only-of-type {\n",
              "        vertical-align: middle;\n",
              "    }\n",
              "\n",
              "    .dataframe tbody tr th {\n",
              "        vertical-align: top;\n",
              "    }\n",
              "\n",
              "    .dataframe thead th {\n",
              "        text-align: right;\n",
              "    }\n",
              "</style>\n",
              "<table border=\"1\" class=\"dataframe\">\n",
              "  <thead>\n",
              "    <tr style=\"text-align: right;\">\n",
              "      <th></th>\n",
              "      <th>0</th>\n",
              "      <th>Features</th>\n",
              "    </tr>\n",
              "  </thead>\n",
              "  <tbody>\n",
              "    <tr>\n",
              "      <th>0</th>\n",
              "      <td>0.123751</td>\n",
              "      <td>battery_power</td>\n",
              "    </tr>\n",
              "    <tr>\n",
              "      <th>4</th>\n",
              "      <td>0.021556</td>\n",
              "      <td>fc</td>\n",
              "    </tr>\n",
              "    <tr>\n",
              "      <th>6</th>\n",
              "      <td>0.029379</td>\n",
              "      <td>int_memory</td>\n",
              "    </tr>\n",
              "    <tr>\n",
              "      <th>7</th>\n",
              "      <td>0.026566</td>\n",
              "      <td>m_dep</td>\n",
              "    </tr>\n",
              "    <tr>\n",
              "      <th>8</th>\n",
              "      <td>0.041214</td>\n",
              "      <td>mobile_wt</td>\n",
              "    </tr>\n",
              "    <tr>\n",
              "      <th>9</th>\n",
              "      <td>0.023947</td>\n",
              "      <td>n_cores</td>\n",
              "    </tr>\n",
              "    <tr>\n",
              "      <th>11</th>\n",
              "      <td>0.102883</td>\n",
              "      <td>px_height</td>\n",
              "    </tr>\n",
              "    <tr>\n",
              "      <th>12</th>\n",
              "      <td>0.075439</td>\n",
              "      <td>px_width</td>\n",
              "    </tr>\n",
              "    <tr>\n",
              "      <th>13</th>\n",
              "      <td>0.415047</td>\n",
              "      <td>ram</td>\n",
              "    </tr>\n",
              "    <tr>\n",
              "      <th>15</th>\n",
              "      <td>0.022757</td>\n",
              "      <td>sc_w</td>\n",
              "    </tr>\n",
              "  </tbody>\n",
              "</table>\n",
              "</div>\n",
              "      <button class=\"colab-df-convert\" onclick=\"convertToInteractive('df-4f9158e5-eebc-474a-a028-4c46fee6b255')\"\n",
              "              title=\"Convert this dataframe to an interactive table.\"\n",
              "              style=\"display:none;\">\n",
              "        \n",
              "  <svg xmlns=\"http://www.w3.org/2000/svg\" height=\"24px\"viewBox=\"0 0 24 24\"\n",
              "       width=\"24px\">\n",
              "    <path d=\"M0 0h24v24H0V0z\" fill=\"none\"/>\n",
              "    <path d=\"M18.56 5.44l.94 2.06.94-2.06 2.06-.94-2.06-.94-.94-2.06-.94 2.06-2.06.94zm-11 1L8.5 8.5l.94-2.06 2.06-.94-2.06-.94L8.5 2.5l-.94 2.06-2.06.94zm10 10l.94 2.06.94-2.06 2.06-.94-2.06-.94-.94-2.06-.94 2.06-2.06.94z\"/><path d=\"M17.41 7.96l-1.37-1.37c-.4-.4-.92-.59-1.43-.59-.52 0-1.04.2-1.43.59L10.3 9.45l-7.72 7.72c-.78.78-.78 2.05 0 2.83L4 21.41c.39.39.9.59 1.41.59.51 0 1.02-.2 1.41-.59l7.78-7.78 2.81-2.81c.8-.78.8-2.07 0-2.86zM5.41 20L4 18.59l7.72-7.72 1.47 1.35L5.41 20z\"/>\n",
              "  </svg>\n",
              "      </button>\n",
              "      \n",
              "  <style>\n",
              "    .colab-df-container {\n",
              "      display:flex;\n",
              "      flex-wrap:wrap;\n",
              "      gap: 12px;\n",
              "    }\n",
              "\n",
              "    .colab-df-convert {\n",
              "      background-color: #E8F0FE;\n",
              "      border: none;\n",
              "      border-radius: 50%;\n",
              "      cursor: pointer;\n",
              "      display: none;\n",
              "      fill: #1967D2;\n",
              "      height: 32px;\n",
              "      padding: 0 0 0 0;\n",
              "      width: 32px;\n",
              "    }\n",
              "\n",
              "    .colab-df-convert:hover {\n",
              "      background-color: #E2EBFA;\n",
              "      box-shadow: 0px 1px 2px rgba(60, 64, 67, 0.3), 0px 1px 3px 1px rgba(60, 64, 67, 0.15);\n",
              "      fill: #174EA6;\n",
              "    }\n",
              "\n",
              "    [theme=dark] .colab-df-convert {\n",
              "      background-color: #3B4455;\n",
              "      fill: #D2E3FC;\n",
              "    }\n",
              "\n",
              "    [theme=dark] .colab-df-convert:hover {\n",
              "      background-color: #434B5C;\n",
              "      box-shadow: 0px 1px 3px 1px rgba(0, 0, 0, 0.15);\n",
              "      filter: drop-shadow(0px 1px 2px rgba(0, 0, 0, 0.3));\n",
              "      fill: #FFFFFF;\n",
              "    }\n",
              "  </style>\n",
              "\n",
              "      <script>\n",
              "        const buttonEl =\n",
              "          document.querySelector('#df-4f9158e5-eebc-474a-a028-4c46fee6b255 button.colab-df-convert');\n",
              "        buttonEl.style.display =\n",
              "          google.colab.kernel.accessAllowed ? 'block' : 'none';\n",
              "\n",
              "        async function convertToInteractive(key) {\n",
              "          const element = document.querySelector('#df-4f9158e5-eebc-474a-a028-4c46fee6b255');\n",
              "          const dataTable =\n",
              "            await google.colab.kernel.invokeFunction('convertToInteractive',\n",
              "                                                     [key], {});\n",
              "          if (!dataTable) return;\n",
              "\n",
              "          const docLinkHtml = 'Like what you see? Visit the ' +\n",
              "            '<a target=\"_blank\" href=https://colab.research.google.com/notebooks/data_table.ipynb>data table notebook</a>'\n",
              "            + ' to learn more about interactive tables.';\n",
              "          element.innerHTML = '';\n",
              "          dataTable['output_type'] = 'display_data';\n",
              "          await google.colab.output.renderOutput(dataTable, element);\n",
              "          const docLink = document.createElement('div');\n",
              "          docLink.innerHTML = docLinkHtml;\n",
              "          element.appendChild(docLink);\n",
              "        }\n",
              "      </script>\n",
              "    </div>\n",
              "  </div>\n",
              "  "
            ]
          },
          "metadata": {},
          "execution_count": 299
        }
      ]
    },
    {
      "cell_type": "code",
      "source": [
        "#bar graph to see which features make impact on output\n",
        "plt.xticks(rotation=90)\n",
        "sns.barplot(imp_fea[\"Features\"],imp_fea[0])\n",
        "plt.ylabel(\"Importance Value\")"
      ],
      "metadata": {
        "colab": {
          "base_uri": "https://localhost:8080/",
          "height": 358
        },
        "id": "3mcRG3xOZDHU",
        "outputId": "fac53155-1019-43fd-a122-4a0df53148e6"
      },
      "execution_count": null,
      "outputs": [
        {
          "output_type": "execute_result",
          "data": {
            "text/plain": [
              "Text(0, 0.5, 'Importance Value')"
            ]
          },
          "metadata": {},
          "execution_count": 300
        },
        {
          "output_type": "display_data",
          "data": {
            "text/plain": [
              "<Figure size 432x288 with 1 Axes>"
            ],
            "image/png": "[encoded data removed]"
          },
          "metadata": {
            "needs_background": "light"
          }
        }
      ]
    },
    {
      "cell_type": "code",
      "source": [
        "#select dataset feature which is given by feature importance of train data\n",
        "X_train_final=X_train_scale[imp_fea[\"Features\"]]\n",
        "\n",
        "#select dataset feature which is given by feature importance of test data\n",
        "X_test_final=X_test_scale[imp_fea[\"Features\"]]\n",
        "\n",
        "#count of features before and after feature selection\n",
        "print(\"Features before implementation of feature importance {} \".format(len(X_train_scale.columns)))\n",
        "print(\"Features after implementation of feature importance {} \".format(len(X_train_final.columns)))"
      ],
      "metadata": {
        "colab": {
          "base_uri": "https://localhost:8080/"
        },
        "id": "uHR3R-XjZc-F",
        "outputId": "8607c230-4772-4e3f-e45c-5ac029a73825"
      },
      "execution_count": null,
      "outputs": [
        {
          "output_type": "stream",
          "name": "stdout",
          "text": [
            "Features before implementation of feature importance 20 \n",
            "Features after implementation of feature importance 10 \n"
          ]
        }
      ]
    },
    {
      "cell_type": "code",
      "source": [
        "#model number 2\n",
        "xgb2=XGBClassifier()\n",
        "xgb2.fit(X_train_final,y_train)"
      ],
      "metadata": {
        "colab": {
          "base_uri": "https://localhost:8080/"
        },
        "id": "FXXSEq7caCla",
        "outputId": "17ea4217-3871-45f0-f2b5-c63370c1d394"
      },
      "execution_count": null,
      "outputs": [
        {
          "output_type": "execute_result",
          "data": {
            "text/plain": [
              "XGBClassifier(objective='multi:softprob')"
            ]
          },
          "metadata": {},
          "execution_count": 302
        }
      ]
    },
    {
      "cell_type": "code",
      "source": [
        "#To find accuracy of train data\n",
        "acc1=xgb2.score(X_train_final, y_train)*100 \n",
        "print(\"Train accuracy= {} \".format(acc1))"
      ],
      "metadata": {
        "colab": {
          "base_uri": "https://localhost:8080/"
        },
        "id": "idmjBxyIaPmE",
        "outputId": "3e6665af-2ed7-4541-9a5f-f0c6b4ccd638"
      },
      "execution_count": null,
      "outputs": [
        {
          "output_type": "stream",
          "name": "stdout",
          "text": [
            "Train accuracy= 98.625 \n"
          ]
        }
      ]
    },
    {
      "cell_type": "code",
      "source": [
        "#To find accuracy of test data\n",
        "acc2=xgb2.score(X_test_final,y_test)*100 \n",
        "print(\"Test accuracy= {} \".format(acc2))"
      ],
      "metadata": {
        "colab": {
          "base_uri": "https://localhost:8080/"
        },
        "id": "2j27ke2yaRpe",
        "outputId": "cd61024e-6909-4918-ad59-66e4f64ec4f5"
      },
      "execution_count": null,
      "outputs": [
        {
          "output_type": "stream",
          "name": "stdout",
          "text": [
            "Test accuracy= 90.75 \n"
          ]
        }
      ]
    },
    {
      "cell_type": "markdown",
      "source": [
        "# 3.Hyperparameter tuning"
      ],
      "metadata": {
        "id": "tPeg6QK1qXlz"
      }
    },
    {
      "cell_type": "code",
      "source": [
        "from sklearn.model_selection import RandomizedSearchCV\n",
        "\n",
        "# Number of trees in random forest\n",
        "n_estimators = [int(x) for x in np.linspace(start = 200, stop = 2000, num = 10)]\n",
        "\n",
        "# Number of features to consider at every split\n",
        "max_features = ['auto', 'sqrt','log2']\n",
        "\n",
        "# Maximum number of levels in tree\n",
        "max_depth = [int(x) for x in np.linspace(10, 1000,10)]\n",
        "\n",
        "# Minimum number of samples required to split a node\n",
        "min_samples_split = [2, 5, 10,14]\n",
        "\n",
        "# Minimum number of samples required at each leaf node\n",
        "min_samples_leaf = [1, 2, 4,6,8]\n",
        "\n",
        "# Create the random grid\n",
        "random_parameters = {'n_estimators': n_estimators,\n",
        "               'max_features': max_features,\n",
        "               'max_depth': max_depth,\n",
        "               'min_samples_split': min_samples_split,\n",
        "               'min_samples_leaf': min_samples_leaf,\n",
        "              'criterion':['entropy','gini']}\n",
        "              \n",
        "print(random_parameters)"
      ],
      "metadata": {
        "colab": {
          "base_uri": "https://localhost:8080/"
        },
        "id": "3wGLDfM1gW7K",
        "outputId": "c956c622-f34b-488a-a546-7e2b144f69f4"
      },
      "execution_count": null,
      "outputs": [
        {
          "output_type": "stream",
          "name": "stdout",
          "text": [
            "{'n_estimators': [200, 400, 600, 800, 1000, 1200, 1400, 1600, 1800, 2000], 'max_features': ['auto', 'sqrt', 'log2'], 'max_depth': [10, 120, 230, 340, 450, 560, 670, 780, 890, 1000], 'min_samples_split': [2, 5, 10, 14], 'min_samples_leaf': [1, 2, 4, 6, 8], 'criterion': ['entropy', 'gini']}\n"
          ]
        }
      ]
    },
    {
      "cell_type": "code",
      "source": [
        "#model number 3\n",
        "xgb3=XGBClassifier(subsample=0.5)\n",
        "xgb3_randomcv=RandomizedSearchCV(estimator=xgb3,param_distributions=random_parameters,n_iter=100,cv=3,verbose=2,\n",
        "                               random_state=100,n_jobs=-1)\n",
        "### fit the randomized model\n",
        "xgb3_randomcv.fit(X_train_final,y_train)"
      ],
      "metadata": {
        "colab": {
          "base_uri": "https://localhost:8080/"
        },
        "id": "o-hyPZGtgb5K",
        "outputId": "5ccdf52a-0f0b-4aad-e8af-e01159b45f44"
      },
      "execution_count": null,
      "outputs": [
        {
          "output_type": "stream",
          "name": "stdout",
          "text": [
            "Fitting 3 folds for each of 100 candidates, totalling 300 fits\n"
          ]
        },
        {
          "output_type": "execute_result",
          "data": {
            "text/plain": [
              "RandomizedSearchCV(cv=3, estimator=XGBClassifier(subsample=0.5), n_iter=100,\n",
              "                   n_jobs=-1,\n",
              "                   param_distributions={'criterion': ['entropy', 'gini'],\n",
              "                                        'max_depth': [10, 120, 230, 340, 450,\n",
              "                                                      560, 670, 780, 890,\n",
              "                                                      1000],\n",
              "                                        'max_features': ['auto', 'sqrt',\n",
              "                                                         'log2'],\n",
              "                                        'min_samples_leaf': [1, 2, 4, 6, 8],\n",
              "                                        'min_samples_split': [2, 5, 10, 14],\n",
              "                                        'n_estimators': [200, 400, 600, 800,\n",
              "                                                         1000, 1200, 1400, 1600,\n",
              "                                                         1800, 2000]},\n",
              "                   random_state=100, verbose=2)"
            ]
          },
          "metadata": {},
          "execution_count": 331
        }
      ]
    },
    {
      "cell_type": "code",
      "source": [
        "#best parameters for the model\n",
        "best_parameters=xgb3_randomcv.best_estimator_\n",
        "best_parameters"
      ],
      "metadata": {
        "colab": {
          "base_uri": "https://localhost:8080/"
        },
        "id": "fXQjrQ3Fg5gj",
        "outputId": "250e5ec5-afd2-4c59-d388-3dca330147e1"
      },
      "execution_count": null,
      "outputs": [
        {
          "output_type": "execute_result",
          "data": {
            "text/plain": [
              "XGBClassifier(criterion='entropy', max_depth=1000, max_features='sqrt',\n",
              "              min_samples_leaf=8, min_samples_split=10, n_estimators=1600,\n",
              "              objective='multi:softprob', subsample=0.5)"
            ]
          },
          "metadata": {},
          "execution_count": 332
        }
      ]
    },
    {
      "cell_type": "code",
      "source": [
        "from sklearn.metrics import classification_report,accuracy_score"
      ],
      "metadata": {
        "id": "6x_aaWJfseV9"
      },
      "execution_count": null,
      "outputs": []
    },
    {
      "cell_type": "code",
      "source": [
        "#classification report of train data\n",
        "y_train_prd=best_parameters.predict(X_train_final)\n",
        "print(\"Classification report is : \\n {}\".format(classification_report(y_train,y_train_prd)))"
      ],
      "metadata": {
        "colab": {
          "base_uri": "https://localhost:8080/"
        },
        "id": "DgoHNrzLsi_z",
        "outputId": "5a75cc55-0a0c-4cc3-f7a9-836fd4f51e08"
      },
      "execution_count": null,
      "outputs": [
        {
          "output_type": "stream",
          "name": "stdout",
          "text": [
            "Classification report is : \n",
            "               precision    recall  f1-score   support\n",
            "\n",
            "           0       1.00      1.00      1.00       408\n",
            "           1       1.00      1.00      1.00       403\n",
            "           2       1.00      1.00      1.00       391\n",
            "           3       1.00      1.00      1.00       398\n",
            "\n",
            "    accuracy                           1.00      1600\n",
            "   macro avg       1.00      1.00      1.00      1600\n",
            "weighted avg       1.00      1.00      1.00      1600\n",
            "\n"
          ]
        }
      ]
    },
    {
      "cell_type": "code",
      "source": [
        "#plot test accuracy \n",
        "ax2=sns.distplot(y_train,hist=False,color=\"r\")\n",
        "sns.distplot(y_train_prd,hist=False,color=\"b\",ax=ax2)\n",
        "plt.legend(labels=[\"Actual\",\"Predicted\"])"
      ],
      "metadata": {
        "colab": {
          "base_uri": "https://localhost:8080/",
          "height": 282
        },
        "id": "nnqyuTRps_52",
        "outputId": "3597376c-ae2d-4e92-b282-5f21de6e68ad"
      },
      "execution_count": null,
      "outputs": [
        {
          "output_type": "execute_result",
          "data": {
            "text/plain": [
              "<matplotlib.legend.Legend at 0x7febe9a1ffd0>"
            ]
          },
          "metadata": {},
          "execution_count": 335
        },
        {
          "output_type": "display_data",
          "data": {
            "text/plain": [
              "<Figure size 432x288 with 1 Axes>"
            ],
            "image/png": "[encoded data removed]"
          },
          "metadata": {
            "needs_background": "light"
          }
        }
      ]
    },
    {
      "cell_type": "code",
      "source": [
        "#classification report of test data\n",
        "y_test_prd=best_parameters.predict(X_test_final)\n",
        "print(\"Classification report is : \\n {}\".format(classification_report(y_test,y_test_prd)))"
      ],
      "metadata": {
        "colab": {
          "base_uri": "https://localhost:8080/"
        },
        "id": "v42vn6d2j7C_",
        "outputId": "bcece7b3-97c4-49a4-8951-24aa0ba2ee40"
      },
      "execution_count": null,
      "outputs": [
        {
          "output_type": "stream",
          "name": "stdout",
          "text": [
            "Classification report is : \n",
            "               precision    recall  f1-score   support\n",
            "\n",
            "           0       0.95      0.93      0.94        92\n",
            "           1       0.84      0.90      0.87        97\n",
            "           2       0.90      0.87      0.88       109\n",
            "           3       0.96      0.94      0.95       102\n",
            "\n",
            "    accuracy                           0.91       400\n",
            "   macro avg       0.91      0.91      0.91       400\n",
            "weighted avg       0.91      0.91      0.91       400\n",
            "\n"
          ]
        }
      ]
    },
    {
      "cell_type": "code",
      "source": [
        "#plot test accuracy \n",
        "ax2=sns.distplot(y_test,hist=False,color=\"r\")\n",
        "sns.distplot(y_test_prd,hist=False,color=\"b\",ax=ax2)\n",
        "plt.legend(labels=[\"Actual\",\"Predicted\"])"
      ],
      "metadata": {
        "colab": {
          "base_uri": "https://localhost:8080/",
          "height": 282
        },
        "id": "Plw20VIDsHp8",
        "outputId": "470748df-0e90-4c01-f572-2dc9d8227c73"
      },
      "execution_count": null,
      "outputs": [
        {
          "output_type": "execute_result",
          "data": {
            "text/plain": [
              "<matplotlib.legend.Legend at 0x7febe9ad7350>"
            ]
          },
          "metadata": {},
          "execution_count": 337
        },
        {
          "output_type": "display_data",
          "data": {
            "text/plain": [
              "<Figure size 432x288 with 1 Axes>"
            ],
            "image/png": "[encoded data removed]"
          },
          "metadata": {
            "needs_background": "light"
          }
        }
      ]
    },
    {
      "cell_type": "markdown",
      "source": [
        "##**Support Vector Machines**"
      ],
      "metadata": {
        "id": "A60j9X0MZRqt"
      }
    },
    {
      "cell_type": "code",
      "source": [
        "from sklearn.svm import SVC"
      ],
      "metadata": {
        "id": "qULpuv45CmsP"
      },
      "execution_count": null,
      "outputs": []
    },
    {
      "cell_type": "code",
      "source": [
        "#fit train data\n",
        "sv=SVC(kernel=\"poly\")\n",
        "sv.fit(X_train_final, y_train)       "
      ],
      "metadata": {
        "colab": {
          "base_uri": "https://localhost:8080/"
        },
        "id": "uWkwRZoQHe-E",
        "outputId": "3ea2b72f-20a3-442e-f911-86ce037c8c26"
      },
      "execution_count": null,
      "outputs": [
        {
          "output_type": "execute_result",
          "data": {
            "text/plain": [
              "SVC(kernel='poly')"
            ]
          },
          "metadata": {},
          "execution_count": 314
        }
      ]
    },
    {
      "cell_type": "code",
      "source": [
        "#To find accuracy of train data\n",
        "sv.score(X_train_final, y_train)*100    "
      ],
      "metadata": {
        "colab": {
          "base_uri": "https://localhost:8080/"
        },
        "id": "ix7X-Un8HlVC",
        "outputId": "7b95c1ef-f4bc-4ebd-bff9-f992f1fb2834"
      },
      "execution_count": null,
      "outputs": [
        {
          "output_type": "execute_result",
          "data": {
            "text/plain": [
              "92.6875"
            ]
          },
          "metadata": {},
          "execution_count": 315
        }
      ]
    },
    {
      "cell_type": "code",
      "source": [
        "#To find accuracy of test data\n",
        "sv.score(X_test_final, y_test)*100    "
      ],
      "metadata": {
        "colab": {
          "base_uri": "https://localhost:8080/"
        },
        "id": "tyHWGv5vHjgw",
        "outputId": "ea844102-2b37-4f97-b6ab-4a0cdec5a5dc"
      },
      "execution_count": null,
      "outputs": [
        {
          "output_type": "execute_result",
          "data": {
            "text/plain": [
              "84.5"
            ]
          },
          "metadata": {},
          "execution_count": 316
        }
      ]
    },
    {
      "cell_type": "code",
      "source": [
        "#To find all intercept values\n",
        "sv.intercept_  "
      ],
      "metadata": {
        "colab": {
          "base_uri": "https://localhost:8080/"
        },
        "id": "cgGj0lm2AOom",
        "outputId": "d82b0102-1baf-43d1-f652-c3613611430d"
      },
      "execution_count": null,
      "outputs": [
        {
          "output_type": "execute_result",
          "data": {
            "text/plain": [
              "array([-1.42143411, -0.65300778,  0.02332785,  0.08290923,  0.72640276,\n",
              "        1.44341744])"
            ]
          },
          "metadata": {},
          "execution_count": 317
        }
      ]
    },
    {
      "cell_type": "code",
      "source": [
        "#find predicted values on train data\n",
        "y_train_prd1=sv.predict(X_train_final) \n",
        "y_train_prd1=pd.DataFrame(y_train_prd1)"
      ],
      "metadata": {
        "id": "jWYdpgR8BD5m"
      },
      "execution_count": null,
      "outputs": []
    },
    {
      "cell_type": "code",
      "source": [
        "#predicted dataframe on train data\n",
        "y_train_prd "
      ],
      "metadata": {
        "colab": {
          "base_uri": "https://localhost:8080/"
        },
        "id": "KKFt3FNBGNBB",
        "outputId": "87e47486-d3b7-4f71-b098-81bb19e48f9e"
      },
      "execution_count": null,
      "outputs": [
        {
          "output_type": "execute_result",
          "data": {
            "text/plain": [
              "array([0, 3, 0, ..., 3, 1, 1])"
            ]
          },
          "metadata": {},
          "execution_count": 319
        }
      ]
    },
    {
      "cell_type": "code",
      "source": [
        "#plot train accuracy \n",
        "ax1=sns.distplot(y_train,hist=False,color=\"r\")\n",
        "sns.distplot(y_train_prd1,hist=False,color=\"b\",ax=ax1)"
      ],
      "metadata": {
        "colab": {
          "base_uri": "https://localhost:8080/",
          "height": 282
        },
        "id": "o0Zz0GgkvKeL",
        "outputId": "2601c97d-b6a1-4fa3-bbec-22859e5ffe82"
      },
      "execution_count": null,
      "outputs": [
        {
          "output_type": "execute_result",
          "data": {
            "text/plain": [
              "<matplotlib.axes._subplots.AxesSubplot at 0x7febe7f40a10>"
            ]
          },
          "metadata": {},
          "execution_count": 320
        },
        {
          "output_type": "display_data",
          "data": {
            "text/plain": [
              "<Figure size 432x288 with 1 Axes>"
            ],
            "image/png": "[encoded data removed]"
          },
          "metadata": {
            "needs_background": "light"
          }
        }
      ]
    },
    {
      "cell_type": "code",
      "source": [
        "#precision,recall,f1-score,support\n",
        "from sklearn.metrics import classification_report\n",
        "matrix_train = classification_report(y_train,y_train_prd1,labels=[0,1,2,3])\n",
        "print('Classification report : \\n',matrix_train)"
      ],
      "metadata": {
        "colab": {
          "base_uri": "https://localhost:8080/"
        },
        "id": "PZkTvJvPfv2p",
        "outputId": "6aaa9ff9-c6d1-4e8c-d3da-b5ff43b9712d"
      },
      "execution_count": null,
      "outputs": [
        {
          "output_type": "stream",
          "name": "stdout",
          "text": [
            "Classification report : \n",
            "               precision    recall  f1-score   support\n",
            "\n",
            "           0       0.99      0.90      0.94       408\n",
            "           1       0.88      0.97      0.92       403\n",
            "           2       0.88      0.94      0.91       391\n",
            "           3       0.98      0.89      0.93       398\n",
            "\n",
            "    accuracy                           0.93      1600\n",
            "   macro avg       0.93      0.93      0.93      1600\n",
            "weighted avg       0.93      0.93      0.93      1600\n",
            "\n"
          ]
        }
      ]
    },
    {
      "cell_type": "code",
      "source": [
        "#find predicted values\n",
        "y_test_prd2=sv.predict(X_test_final)   \n",
        "y_test_prd=pd.DataFrame(y_test_prd2)"
      ],
      "metadata": {
        "id": "RsFg7whhLWly"
      },
      "execution_count": null,
      "outputs": []
    },
    {
      "cell_type": "code",
      "source": [
        "#plot test accuracy \n",
        "ax2=sns.distplot(y_test,hist=False,color=\"r\")\n",
        "sns.distplot(y_test_prd2,hist=False,color=\"b\",ax=ax2)"
      ],
      "metadata": {
        "colab": {
          "base_uri": "https://localhost:8080/",
          "height": 282
        },
        "id": "m16MpEkkvXrf",
        "outputId": "0a7a5fea-d7b5-4913-afb6-41d0e7c0785c"
      },
      "execution_count": null,
      "outputs": [
        {
          "output_type": "execute_result",
          "data": {
            "text/plain": [
              "<matplotlib.axes._subplots.AxesSubplot at 0x7febe867b310>"
            ]
          },
          "metadata": {},
          "execution_count": 323
        },
        {
          "output_type": "display_data",
          "data": {
            "text/plain": [
              "<Figure size 432x288 with 1 Axes>"
            ],
            "image/png": "[encoded data removed]"
          },
          "metadata": {
            "needs_background": "light"
          }
        }
      ]
    },
    {
      "cell_type": "code",
      "source": [
        "#precision,recall,f1-score,support\n",
        "from sklearn.metrics import classification_report\n",
        "matrix_test = classification_report(y_test,y_test_prd2,labels=[0,1,2,3])\n",
        "print('Classification report : \\n',matrix_test)"
      ],
      "metadata": {
        "colab": {
          "base_uri": "https://localhost:8080/"
        },
        "id": "bM4RDrDBjxSv",
        "outputId": "5436c8f3-4013-4edc-ce66-ddeee2737eb2"
      },
      "execution_count": null,
      "outputs": [
        {
          "output_type": "stream",
          "name": "stdout",
          "text": [
            "Classification report : \n",
            "               precision    recall  f1-score   support\n",
            "\n",
            "           0       0.87      0.88      0.88        92\n",
            "           1       0.77      0.85      0.81        97\n",
            "           2       0.83      0.81      0.82       109\n",
            "           3       0.92      0.85      0.88       102\n",
            "\n",
            "    accuracy                           0.84       400\n",
            "   macro avg       0.85      0.85      0.85       400\n",
            "weighted avg       0.85      0.84      0.85       400\n",
            "\n"
          ]
        }
      ]
    },
    {
      "cell_type": "markdown",
      "source": [
        "#<font color='red'> **Conclusion**\n",
        "\n",
        "1.There are only numerical features so we saperate out discrete and continous features.\n",
        "\n",
        "2.No null values present.\n",
        "\n",
        "3.This is multi class classification problem.\n",
        "\n",
        "0-Low cost\n",
        "\n",
        "1-Medium cost\n",
        "\n",
        "2-High cost\n",
        "\n",
        "3-Very high cost\n",
        "\n",
        "4.From heat diagram we clearly seen that,only \"ram\" feature has more correlation value with our dependent variable \"price_range\".\n",
        "\n",
        "5.Balanced dataset:Each 4 classes contains 25% each.\n",
        "\n",
        "6.Discrete features also shows balanced property.\n",
        "\n",
        "7.Classification\n",
        "\n",
        "a)Train test split with train size=80%\n",
        "\n",
        "b)Use StandaredScaler to scale the values between mean and standard deviation values.\n",
        "\n",
        "c)XGBoost:With using XGBoost we create 3 models \n",
        "\n",
        "-Model No. 1:Built model with default parameters(train accuracy=99%,test accuracy=91%)\n",
        "\n",
        "-Model No. 2:Built model with default parameters but use dimensionality reduction.Select thoes features which are important to predict output(train accuracy=98%,test accuracy=91%)\n",
        "\n",
        "-Model No. 3:Built model with hyperparameter tuning.With using default parameters model give good accuracy so we use RandomSearchCV to give best values of parameters randomly.(train accuracy100%=,test accuracy=91%)\n",
        "\n",
        "d)Support Vector Machine\n",
        "\n",
        "This can give good accuracy towards train dataset but not for test data.\n",
        "\n",
        "train accuracy=92%\n",
        "\n",
        "test accuracy=85%\n",
        "\n"
      ],
      "metadata": {
        "id": "583MbF1hZECV"
      }
    },
    {
      "cell_type": "markdown",
      "source": [
        "![240_F_291522205_XkrmS421FjSGTMRdTrqFZPxDY19VxpmL.jpeg](data:image/jpeg;base64,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)"
      ],
      "metadata": {
        "id": "DpG-dlananxv"
      }
    }
  ]
}